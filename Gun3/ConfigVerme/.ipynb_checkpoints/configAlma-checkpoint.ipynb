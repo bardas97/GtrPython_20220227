{
 "cells": [
  {
   "cell_type": "markdown",
   "id": "65661688-4bea-4b87-ad45-c2e7b7f96bcc",
   "metadata": {},
   "source": [
    "## Configparser\n",
    "\n",
    "aşağıdaki formatta bir dosya oluşturup bazı ayarları depolayabiliriz.\n",
    "```\n",
    "[section]\n",
    "config1: cofigDegeri\n",
    "config2: cofigDegeri\n",
    "\n",
    "[numaralar]\n",
    "piSayisi:3.14\n",
    "\n",
    "[mesajlar]\n",
    "selamlama:merhaba dünyalı\n",
    "veda:Görüşmek üzere\n",
    "soru:nasılsın?\n",
    "```"
   ]
  },
  {
   "cell_type": "code",
   "execution_count": 24,
   "id": "a3e18020-920e-4dc4-9ea0-8ccc3a410b16",
   "metadata": {},
   "outputs": [],
   "source": [
    "from configparser import ConfigParser"
   ]
  },
  {
   "cell_type": "code",
   "execution_count": 25,
   "id": "0b6588b6-cdb7-4e03-b2fa-709215a603f8",
   "metadata": {},
   "outputs": [],
   "source": [
    "cf = ConfigParser()"
   ]
  },
  {
   "cell_type": "markdown",
   "id": "c48dd0d4-5725-4045-916b-63f1d33a0773",
   "metadata": {},
   "source": [
    "#### config okumak"
   ]
  },
  {
   "cell_type": "code",
   "execution_count": 26,
   "id": "54b21c53-4ae6-437d-a0c0-6e77b50a508c",
   "metadata": {},
   "outputs": [
    {
     "data": {
      "text/plain": [
       "['ayarlar.ini']"
      ]
     },
     "execution_count": 26,
     "metadata": {},
     "output_type": "execute_result"
    }
   ],
   "source": [
    "cf.read(\"ayarlar.ini\", encoding=\"UTF-8\")"
   ]
  },
  {
   "cell_type": "code",
   "execution_count": 27,
   "id": "39d50dd1-2c7c-469a-9ef5-dc44e85deb5e",
   "metadata": {},
   "outputs": [
    {
     "data": {
      "text/plain": [
       "3.14"
      ]
     },
     "execution_count": 27,
     "metadata": {},
     "output_type": "execute_result"
    }
   ],
   "source": [
    "cf[\"mesajlar\"].get(\"selamlama\")\n",
    "cf[\"numaralar\"].getfloat(\"piSayisi\")"
   ]
  },
  {
   "cell_type": "markdown",
   "id": "f3cc6320-f586-4b82-9620-6dbb73f2fcf0",
   "metadata": {},
   "source": [
    "#### config yazmak"
   ]
  },
  {
   "cell_type": "code",
   "execution_count": 28,
   "id": "6ded050e-dec8-4678-90a4-849aecc30ed7",
   "metadata": {},
   "outputs": [],
   "source": [
    "cf[\"SonradanAyarlar\"] = {\n",
    "                            \"arplanRengi\":\"Red\",\n",
    "                            \"fontBuyuklugu\":12\n",
    "                        }"
   ]
  },
  {
   "cell_type": "code",
   "execution_count": 29,
   "id": "fd3d3139-0d9b-4a85-b55d-ef910c7efa51",
   "metadata": {},
   "outputs": [],
   "source": [
    "with open(\"ayarlar.ini\",\"w\",encoding=\"UTF-8\") as cf_file:\n",
    "    cf.write(cf_file)"
   ]
  }
 ],
 "metadata": {
  "kernelspec": {
   "display_name": "Python 3 (ipykernel)",
   "language": "python",
   "name": "python3"
  },
  "language_info": {
   "codemirror_mode": {
    "name": "ipython",
    "version": 3
   },
   "file_extension": ".py",
   "mimetype": "text/x-python",
   "name": "python",
   "nbconvert_exporter": "python",
   "pygments_lexer": "ipython3",
   "version": "3.8.12"
  }
 },
 "nbformat": 4,
 "nbformat_minor": 5
}
