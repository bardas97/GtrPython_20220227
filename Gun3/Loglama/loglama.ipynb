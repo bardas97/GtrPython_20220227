{
 "cells": [
  {
   "cell_type": "markdown",
   "id": "c4350dcd-ca84-46a8-b643-2e3109d940b7",
   "metadata": {},
   "source": [
    "### Logging"
   ]
  },
  {
   "cell_type": "code",
   "execution_count": 4,
   "id": "b6b399b1-161e-4798-97b4-44396efdbcfa",
   "metadata": {},
   "outputs": [],
   "source": [
    "import logging"
   ]
  },
  {
   "cell_type": "code",
   "execution_count": 8,
   "id": "e458ab09-fee4-440c-8909-b9ffcc3ef22e",
   "metadata": {},
   "outputs": [],
   "source": [
    "logging.basicConfig(filename=\"mylog.log\", level=logging.INFO, encoding=\"UTF-8\")"
   ]
  },
  {
   "cell_type": "code",
   "execution_count": 12,
   "id": "f30aef88-32ae-4a17-8dd3-aec59ef912a1",
   "metadata": {},
   "outputs": [
    {
     "name": "stdout",
     "output_type": "stream",
     "text": [
      "1.0\n"
     ]
    }
   ],
   "source": [
    "#info seviyesine mesaj gönderiyoruz.\n",
    "logging.info(\"Start\")\n",
    "logging.info(\"Triying to divide 1 by 0\")\n",
    "print(1/1) #hata olacağı için aşağıdakiler çalışmayacak\n",
    "logging.info(\"the division succeeded\")\n",
    "logging.info(\"Ending program\")"
   ]
  },
  {
   "cell_type": "markdown",
   "id": "f1cbc363-c41f-49ca-b845-86c8c77f406e",
   "metadata": {},
   "source": [
    "### Pring ile Loglama"
   ]
  },
  {
   "cell_type": "code",
   "execution_count": 15,
   "id": "7f13cc53-a041-43ba-af7a-4cca757a46ec",
   "metadata": {},
   "outputs": [],
   "source": [
    "logDosyasi=open(\"mylogwp.txt\",\"a+\",encoding=\"UTF-8\")\n",
    "print(\"Bu print mesajıdır.\", file=logDosyasi)\n",
    "logDosyasi.close()"
   ]
  },
  {
   "cell_type": "markdown",
   "id": "f24cd34a-8b8e-44b8-87b6-15d13e75f206",
   "metadata": {},
   "source": [
    "### sys ile loglama\n",
    "* standar varsayılan olarak ekrandır.\n",
    "* stdout, stderr, stdin"
   ]
  },
  {
   "cell_type": "code",
   "execution_count": 16,
   "id": "9b9e97b6-e062-4c89-9e58-2b32aac2c4e9",
   "metadata": {},
   "outputs": [],
   "source": [
    "import sys"
   ]
  },
  {
   "cell_type": "code",
   "execution_count": 23,
   "id": "b79aef11-0e4f-45ec-a2ae-62ad26f8f4f3",
   "metadata": {},
   "outputs": [],
   "source": [
    "sys.stdout = open(\"mylogstd.txt\",\"a+\",encoding=\"UTF-8\")"
   ]
  },
  {
   "cell_type": "code",
   "execution_count": 19,
   "id": "e52d7897-0a27-41ff-a33c-c1d1315c152c",
   "metadata": {},
   "outputs": [
    {
     "data": {
      "text/plain": [
       "23"
      ]
     },
     "execution_count": 19,
     "metadata": {},
     "output_type": "execute_result"
    }
   ],
   "source": [
    "sys.stdout.write(\"Bu bir stout mesajıdır.\")"
   ]
  },
  {
   "cell_type": "code",
   "execution_count": 21,
   "id": "302f3a77-8661-4737-b411-d298fc50d765",
   "metadata": {},
   "outputs": [],
   "source": [
    "print(\"merhaba\") #print mesajları stdoutta gider. Burada stdout dosyadır."
   ]
  },
  {
   "cell_type": "code",
   "execution_count": 29,
   "id": "49034864-49a3-44ad-873a-8a9454656cc9",
   "metadata": {},
   "outputs": [],
   "source": [
    "#inceleyelim.\n",
    "#sys.stderr = open(\"mylogstdError.txt\",\"a+\",encoding=\"UTF-8\")\n",
    "#print(\"hata mesajı: \", 1/0)"
   ]
  },
  {
   "cell_type": "code",
   "execution_count": 32,
   "id": "eb597300-af8e-4fa4-87ae-505f866bdb6f",
   "metadata": {},
   "outputs": [
    {
     "data": {
      "text/plain": [
       "['Abdullah\\n', 'Ali\\n', 'Veli']"
      ]
     },
     "execution_count": 32,
     "metadata": {},
     "output_type": "execute_result"
    }
   ],
   "source": [
    "sys.stdin =  open(\"parametreler.txt\",\"r\",encoding=\"UTF-8\")\n",
    "sys.stdin.readlines()"
   ]
  }
 ],
 "metadata": {
  "kernelspec": {
   "display_name": "Python 3 (ipykernel)",
   "language": "python",
   "name": "python3"
  },
  "language_info": {
   "codemirror_mode": {
    "name": "ipython",
    "version": 3
   },
   "file_extension": ".py",
   "mimetype": "text/x-python",
   "name": "python",
   "nbconvert_exporter": "python",
   "pygments_lexer": "ipython3",
   "version": "3.8.12"
  }
 },
 "nbformat": 4,
 "nbformat_minor": 5
}
