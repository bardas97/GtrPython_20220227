{
 "cells": [
  {
   "cell_type": "markdown",
   "id": "62c761f8-ce40-4c28-ae13-a77fdf121e29",
   "metadata": {},
   "source": [
    "### MPG Data Discovery\n",
    "* https://archive.ics.uci.edu/ml/machine-learning-databases/auto-mpg/auto-mpg.data"
   ]
  },
  {
   "cell_type": "code",
   "execution_count": 2,
   "id": "6a14e14c-e373-4f9d-ae06-9d19bb45674c",
   "metadata": {},
   "outputs": [],
   "source": [
    "import numpy as np\n",
    "import pandas as pd\n",
    "import matplotlib.pyplot as plt"
   ]
  },
  {
   "cell_type": "markdown",
   "id": "3d144116-cac9-4aa0-bab2-73912fb32d04",
   "metadata": {},
   "source": [
    "#### Linkten csv okuma"
   ]
  },
  {
   "cell_type": "code",
   "execution_count": 24,
   "id": "d8d0c268-60a7-4771-9907-c11aaf9ba9f1",
   "metadata": {},
   "outputs": [
    {
     "data": {
      "text/html": [
       "<div>\n",
       "<style scoped>\n",
       "    .dataframe tbody tr th:only-of-type {\n",
       "        vertical-align: middle;\n",
       "    }\n",
       "\n",
       "    .dataframe tbody tr th {\n",
       "        vertical-align: top;\n",
       "    }\n",
       "\n",
       "    .dataframe thead th {\n",
       "        text-align: right;\n",
       "    }\n",
       "</style>\n",
       "<table border=\"1\" class=\"dataframe\">\n",
       "  <thead>\n",
       "    <tr style=\"text-align: right;\">\n",
       "      <th></th>\n",
       "      <th>mpg</th>\n",
       "      <th>cylinders</th>\n",
       "      <th>displacement</th>\n",
       "      <th>horsepower</th>\n",
       "      <th>weight</th>\n",
       "      <th>acceleration</th>\n",
       "      <th>model year</th>\n",
       "      <th>origin</th>\n",
       "    </tr>\n",
       "    <tr>\n",
       "      <th>car name</th>\n",
       "      <th></th>\n",
       "      <th></th>\n",
       "      <th></th>\n",
       "      <th></th>\n",
       "      <th></th>\n",
       "      <th></th>\n",
       "      <th></th>\n",
       "      <th></th>\n",
       "    </tr>\n",
       "  </thead>\n",
       "  <tbody>\n",
       "    <tr>\n",
       "      <th>chevrolet chevelle malibu</th>\n",
       "      <td>18.0</td>\n",
       "      <td>8</td>\n",
       "      <td>307.0</td>\n",
       "      <td>130.0</td>\n",
       "      <td>3504.0</td>\n",
       "      <td>12.0</td>\n",
       "      <td>70</td>\n",
       "      <td>1</td>\n",
       "    </tr>\n",
       "    <tr>\n",
       "      <th>buick skylark 320</th>\n",
       "      <td>15.0</td>\n",
       "      <td>8</td>\n",
       "      <td>350.0</td>\n",
       "      <td>165.0</td>\n",
       "      <td>3693.0</td>\n",
       "      <td>11.5</td>\n",
       "      <td>70</td>\n",
       "      <td>1</td>\n",
       "    </tr>\n",
       "  </tbody>\n",
       "</table>\n",
       "</div>"
      ],
      "text/plain": [
       "                            mpg  cylinders  displacement horsepower  weight  \\\n",
       "car name                                                                      \n",
       "chevrolet chevelle malibu  18.0          8         307.0      130.0  3504.0   \n",
       "buick skylark 320          15.0          8         350.0      165.0  3693.0   \n",
       "\n",
       "                           acceleration  model year  origin  \n",
       "car name                                                     \n",
       "chevrolet chevelle malibu          12.0          70       1  \n",
       "buick skylark 320                  11.5          70       1  "
      ]
     },
     "execution_count": 24,
     "metadata": {},
     "output_type": "execute_result"
    }
   ],
   "source": [
    "df = pd.read_csv(\"https://archive.ics.uci.edu/ml/machine-learning-databases/auto-mpg/auto-mpg.data\",\n",
    "                 delimiter=\"\\s+\",\n",
    "                 header=None,\n",
    "                 names=[\"mpg\",\"cylinders\",\"displacement\",\"horsepower\",\"weight\",\"acceleration\",\"model year\",\"origin\",\"car name\"],\n",
    "                 index_col=\"car name\"\n",
    "                )\n",
    "\n",
    "#\n",
    "df.shape #(398, 8)\n",
    "df.columns\n",
    "df.index\n",
    "\n",
    "#\n",
    "len(df.index) #398\n",
    "len(set(df.index)) #305 benzersiz araç\n",
    "len(df.index.value_counts()) #305\n",
    "df.index.nunique() #305\n",
    "\n",
    "#\n",
    "set(df.cylinders) #silindirler {3, 4, 5, 6, 8}\n",
    "\n",
    "#\n",
    "df.head(2)"
   ]
  },
  {
   "cell_type": "code",
   "execution_count": 26,
   "id": "d01b0384-a2a6-43e1-bea9-f0cc9cf9fa0b",
   "metadata": {},
   "outputs": [
    {
     "data": {
      "text/plain": [
       "False"
      ]
     },
     "execution_count": 26,
     "metadata": {},
     "output_type": "execute_result"
    }
   ],
   "source": [
    "#null var mı?\n",
    "df.isna().any().any() #tabloda hiç bull yok."
   ]
  },
  {
   "cell_type": "code",
   "execution_count": 30,
   "id": "fcfe32d9-ce92-44b0-a40d-bedade72453b",
   "metadata": {},
   "outputs": [
    {
     "data": {
      "text/html": [
       "<div>\n",
       "<style scoped>\n",
       "    .dataframe tbody tr th:only-of-type {\n",
       "        vertical-align: middle;\n",
       "    }\n",
       "\n",
       "    .dataframe tbody tr th {\n",
       "        vertical-align: top;\n",
       "    }\n",
       "\n",
       "    .dataframe thead th {\n",
       "        text-align: right;\n",
       "    }\n",
       "</style>\n",
       "<table border=\"1\" class=\"dataframe\">\n",
       "  <thead>\n",
       "    <tr style=\"text-align: right;\">\n",
       "      <th></th>\n",
       "      <th>count</th>\n",
       "      <th>mean</th>\n",
       "      <th>std</th>\n",
       "      <th>min</th>\n",
       "      <th>25%</th>\n",
       "      <th>50%</th>\n",
       "      <th>75%</th>\n",
       "      <th>max</th>\n",
       "    </tr>\n",
       "  </thead>\n",
       "  <tbody>\n",
       "    <tr>\n",
       "      <th>mpg</th>\n",
       "      <td>398.0</td>\n",
       "      <td>23.514573</td>\n",
       "      <td>7.815984</td>\n",
       "      <td>9.0</td>\n",
       "      <td>17.500</td>\n",
       "      <td>23.0</td>\n",
       "      <td>29.000</td>\n",
       "      <td>46.6</td>\n",
       "    </tr>\n",
       "    <tr>\n",
       "      <th>cylinders</th>\n",
       "      <td>398.0</td>\n",
       "      <td>5.454774</td>\n",
       "      <td>1.701004</td>\n",
       "      <td>3.0</td>\n",
       "      <td>4.000</td>\n",
       "      <td>4.0</td>\n",
       "      <td>8.000</td>\n",
       "      <td>8.0</td>\n",
       "    </tr>\n",
       "    <tr>\n",
       "      <th>displacement</th>\n",
       "      <td>398.0</td>\n",
       "      <td>193.425879</td>\n",
       "      <td>104.269838</td>\n",
       "      <td>68.0</td>\n",
       "      <td>104.250</td>\n",
       "      <td>148.5</td>\n",
       "      <td>262.000</td>\n",
       "      <td>455.0</td>\n",
       "    </tr>\n",
       "    <tr>\n",
       "      <th>weight</th>\n",
       "      <td>398.0</td>\n",
       "      <td>2970.424623</td>\n",
       "      <td>846.841774</td>\n",
       "      <td>1613.0</td>\n",
       "      <td>2223.750</td>\n",
       "      <td>2803.5</td>\n",
       "      <td>3608.000</td>\n",
       "      <td>5140.0</td>\n",
       "    </tr>\n",
       "    <tr>\n",
       "      <th>acceleration</th>\n",
       "      <td>398.0</td>\n",
       "      <td>15.568090</td>\n",
       "      <td>2.757689</td>\n",
       "      <td>8.0</td>\n",
       "      <td>13.825</td>\n",
       "      <td>15.5</td>\n",
       "      <td>17.175</td>\n",
       "      <td>24.8</td>\n",
       "    </tr>\n",
       "    <tr>\n",
       "      <th>model year</th>\n",
       "      <td>398.0</td>\n",
       "      <td>76.010050</td>\n",
       "      <td>3.697627</td>\n",
       "      <td>70.0</td>\n",
       "      <td>73.000</td>\n",
       "      <td>76.0</td>\n",
       "      <td>79.000</td>\n",
       "      <td>82.0</td>\n",
       "    </tr>\n",
       "    <tr>\n",
       "      <th>origin</th>\n",
       "      <td>398.0</td>\n",
       "      <td>1.572864</td>\n",
       "      <td>0.802055</td>\n",
       "      <td>1.0</td>\n",
       "      <td>1.000</td>\n",
       "      <td>1.0</td>\n",
       "      <td>2.000</td>\n",
       "      <td>3.0</td>\n",
       "    </tr>\n",
       "  </tbody>\n",
       "</table>\n",
       "</div>"
      ],
      "text/plain": [
       "              count         mean         std     min       25%     50%  \\\n",
       "mpg           398.0    23.514573    7.815984     9.0    17.500    23.0   \n",
       "cylinders     398.0     5.454774    1.701004     3.0     4.000     4.0   \n",
       "displacement  398.0   193.425879  104.269838    68.0   104.250   148.5   \n",
       "weight        398.0  2970.424623  846.841774  1613.0  2223.750  2803.5   \n",
       "acceleration  398.0    15.568090    2.757689     8.0    13.825    15.5   \n",
       "model year    398.0    76.010050    3.697627    70.0    73.000    76.0   \n",
       "origin        398.0     1.572864    0.802055     1.0     1.000     1.0   \n",
       "\n",
       "                   75%     max  \n",
       "mpg             29.000    46.6  \n",
       "cylinders        8.000     8.0  \n",
       "displacement   262.000   455.0  \n",
       "weight        3608.000  5140.0  \n",
       "acceleration    17.175    24.8  \n",
       "model year      79.000    82.0  \n",
       "origin           2.000     3.0  "
      ]
     },
     "execution_count": 30,
     "metadata": {},
     "output_type": "execute_result"
    }
   ],
   "source": [
    "#veri tiplerine bakalm\n",
    "#df.info() #horsepower alanı neden object?\n",
    "\n",
    "df.describe().T #sayısal alanlarla ilgili istatistik."
   ]
  },
  {
   "cell_type": "code",
   "execution_count": 34,
   "id": "be2591d6-d244-41d0-876f-35c310ab66e1",
   "metadata": {},
   "outputs": [
    {
     "data": {
      "text/html": [
       "<div>\n",
       "<style scoped>\n",
       "    .dataframe tbody tr th:only-of-type {\n",
       "        vertical-align: middle;\n",
       "    }\n",
       "\n",
       "    .dataframe tbody tr th {\n",
       "        vertical-align: top;\n",
       "    }\n",
       "\n",
       "    .dataframe thead th {\n",
       "        text-align: right;\n",
       "    }\n",
       "</style>\n",
       "<table border=\"1\" class=\"dataframe\">\n",
       "  <thead>\n",
       "    <tr style=\"text-align: right;\">\n",
       "      <th></th>\n",
       "      <th>mpg</th>\n",
       "      <th>cylinders</th>\n",
       "      <th>displacement</th>\n",
       "      <th>horsepower</th>\n",
       "      <th>weight</th>\n",
       "      <th>acceleration</th>\n",
       "      <th>model year</th>\n",
       "      <th>origin</th>\n",
       "    </tr>\n",
       "    <tr>\n",
       "      <th>car name</th>\n",
       "      <th></th>\n",
       "      <th></th>\n",
       "      <th></th>\n",
       "      <th></th>\n",
       "      <th></th>\n",
       "      <th></th>\n",
       "      <th></th>\n",
       "      <th></th>\n",
       "    </tr>\n",
       "  </thead>\n",
       "  <tbody>\n",
       "    <tr>\n",
       "      <th>mercedes-benz 280s</th>\n",
       "      <td>16.5</td>\n",
       "      <td>6</td>\n",
       "      <td>168.0</td>\n",
       "      <td>120.0</td>\n",
       "      <td>3820.0</td>\n",
       "      <td>16.7</td>\n",
       "      <td>76</td>\n",
       "      <td>2</td>\n",
       "    </tr>\n",
       "    <tr>\n",
       "      <th>mercedes benz 300d</th>\n",
       "      <td>25.4</td>\n",
       "      <td>5</td>\n",
       "      <td>183.0</td>\n",
       "      <td>77.00</td>\n",
       "      <td>3530.0</td>\n",
       "      <td>20.1</td>\n",
       "      <td>79</td>\n",
       "      <td>2</td>\n",
       "    </tr>\n",
       "  </tbody>\n",
       "</table>\n",
       "</div>"
      ],
      "text/plain": [
       "                     mpg  cylinders  displacement horsepower  weight  \\\n",
       "car name                                                               \n",
       "mercedes-benz 280s  16.5          6         168.0      120.0  3820.0   \n",
       "mercedes benz 300d  25.4          5         183.0      77.00  3530.0   \n",
       "\n",
       "                    acceleration  model year  origin  \n",
       "car name                                              \n",
       "mercedes-benz 280s          16.7          76       2  \n",
       "mercedes benz 300d          20.1          79       2  "
      ]
     },
     "execution_count": 34,
     "metadata": {},
     "output_type": "execute_result"
    }
   ],
   "source": [
    "#mercedes geçen etiketler.\n",
    "df.filter(like=\"mercedes\",axis=0)\n",
    "\n",
    "#belli bir indexi\n",
    "df.loc[ [\"mercedes-benz 280s\",\"mercedes benz 300d\"] ]"
   ]
  },
  {
   "cell_type": "markdown",
   "id": "76e3d163-996a-4355-945e-8b50dba36dc3",
   "metadata": {},
   "source": [
    "#### horsepowera odaklanalım"
   ]
  },
  {
   "cell_type": "code",
   "execution_count": 47,
   "id": "5b1db4ce-8b3e-43e6-a0fc-2649ab6f51d6",
   "metadata": {},
   "outputs": [
    {
     "data": {
      "text/plain": [
       "car name\n",
       "ford pinto              ?\n",
       "ford maverick           ?\n",
       "renault lecar deluxe    ?\n",
       "ford mustang cobra      ?\n",
       "renault 18i             ?\n",
       "amc concord dl          ?\n",
       "Name: horsepower, dtype: object"
      ]
     },
     "execution_count": 47,
     "metadata": {},
     "output_type": "execute_result"
    }
   ],
   "source": [
    "pd.options.display.max_rows= 10#None\n",
    "\n",
    "df.horsepower.value_counts()\n",
    "\n",
    "#floata dönüşür mü?\n",
    "#-----------\n",
    "def isFloat(deger):\n",
    "    try:\n",
    "        deger = float(deger)\n",
    "    except:\n",
    "        return False\n",
    "    else:\n",
    "        return True    \n",
    "#-----------\n",
    "\n",
    "df.horsepower.map(isFloat) #False olarak floata dönüşemiyor.\n",
    "floataDonusmeyenSatirlar = df.loc[~df.horsepower.map(isFloat),\"horsepower\"]\n",
    "floataDonusmeyenSatirlar.value_counts()\n",
    "\n",
    "floataDonusmeyenSatirlar"
   ]
  },
  {
   "cell_type": "markdown",
   "id": "5f3cfa46-ac74-48f2-8f4c-bc1cb1f53a52",
   "metadata": {},
   "source": [
    "#### ? olanlara Ortalama basalım"
   ]
  },
  {
   "cell_type": "code",
   "execution_count": 58,
   "id": "3e3ee94d-df9d-4053-818e-b037ba09977c",
   "metadata": {},
   "outputs": [],
   "source": [
    "#df.horsepower.dtype\n",
    "\n",
    "hp_mean = df[df.horsepower.map(isFloat)].horsepower.astype(float).mean()\n",
    "hp_mean\n",
    "\n",
    "#------------\n",
    "#? olanlar\n",
    "df.query(\"horsepower == '?'\").horsepower\n",
    "df.loc[~df.horsepower.map(isFloat),\"horsepower\"] = hp_mean"
   ]
  },
  {
   "cell_type": "code",
   "execution_count": 60,
   "id": "4d4c7404-da42-42fd-bcd5-4a0f470766c4",
   "metadata": {},
   "outputs": [
    {
     "name": "stdout",
     "output_type": "stream",
     "text": [
      "<class 'pandas.core.frame.DataFrame'>\n",
      "Index: 398 entries, chevrolet chevelle malibu to chevy s-10\n",
      "Data columns (total 8 columns):\n",
      " #   Column        Non-Null Count  Dtype  \n",
      "---  ------        --------------  -----  \n",
      " 0   mpg           398 non-null    float64\n",
      " 1   cylinders     398 non-null    int64  \n",
      " 2   displacement  398 non-null    float64\n",
      " 3   horsepower    398 non-null    float64\n",
      " 4   weight        398 non-null    float64\n",
      " 5   acceleration  398 non-null    float64\n",
      " 6   model year    398 non-null    int64  \n",
      " 7   origin        398 non-null    int64  \n",
      "dtypes: float64(5), int64(3)\n",
      "memory usage: 44.1+ KB\n"
     ]
    }
   ],
   "source": [
    "df = df.astype({\"horsepower\":\"float\"})\n",
    "df.info()"
   ]
  },
  {
   "cell_type": "markdown",
   "id": "d46c1eb3-91e0-40f0-af9a-d0f4d879796a",
   "metadata": {},
   "source": [
    "### Gruplama ve Görselleştirme"
   ]
  },
  {
   "cell_type": "code",
   "execution_count": 63,
   "id": "54c03220-f206-40c2-84d8-7b081ed93db2",
   "metadata": {},
   "outputs": [
    {
     "data": {
      "text/html": [
       "<div>\n",
       "<style scoped>\n",
       "    .dataframe tbody tr th:only-of-type {\n",
       "        vertical-align: middle;\n",
       "    }\n",
       "\n",
       "    .dataframe tbody tr th {\n",
       "        vertical-align: top;\n",
       "    }\n",
       "\n",
       "    .dataframe thead tr th {\n",
       "        text-align: left;\n",
       "    }\n",
       "\n",
       "    .dataframe thead tr:last-of-type th {\n",
       "        text-align: right;\n",
       "    }\n",
       "</style>\n",
       "<table border=\"1\" class=\"dataframe\">\n",
       "  <thead>\n",
       "    <tr>\n",
       "      <th></th>\n",
       "      <th colspan=\"4\" halign=\"left\">mpg</th>\n",
       "    </tr>\n",
       "    <tr>\n",
       "      <th></th>\n",
       "      <th>max</th>\n",
       "      <th>min</th>\n",
       "      <th>mean</th>\n",
       "      <th>count</th>\n",
       "    </tr>\n",
       "    <tr>\n",
       "      <th>model year</th>\n",
       "      <th></th>\n",
       "      <th></th>\n",
       "      <th></th>\n",
       "      <th></th>\n",
       "    </tr>\n",
       "  </thead>\n",
       "  <tbody>\n",
       "    <tr>\n",
       "      <th>70</th>\n",
       "      <td>27.0</td>\n",
       "      <td>9.0</td>\n",
       "      <td>17.689655</td>\n",
       "      <td>29</td>\n",
       "    </tr>\n",
       "    <tr>\n",
       "      <th>71</th>\n",
       "      <td>35.0</td>\n",
       "      <td>12.0</td>\n",
       "      <td>21.250000</td>\n",
       "      <td>28</td>\n",
       "    </tr>\n",
       "    <tr>\n",
       "      <th>72</th>\n",
       "      <td>28.0</td>\n",
       "      <td>11.0</td>\n",
       "      <td>18.714286</td>\n",
       "      <td>28</td>\n",
       "    </tr>\n",
       "    <tr>\n",
       "      <th>73</th>\n",
       "      <td>29.0</td>\n",
       "      <td>11.0</td>\n",
       "      <td>17.100000</td>\n",
       "      <td>40</td>\n",
       "    </tr>\n",
       "    <tr>\n",
       "      <th>74</th>\n",
       "      <td>32.0</td>\n",
       "      <td>13.0</td>\n",
       "      <td>22.703704</td>\n",
       "      <td>27</td>\n",
       "    </tr>\n",
       "  </tbody>\n",
       "</table>\n",
       "</div>"
      ],
      "text/plain": [
       "             mpg                       \n",
       "             max   min       mean count\n",
       "model year                             \n",
       "70          27.0   9.0  17.689655    29\n",
       "71          35.0  12.0  21.250000    28\n",
       "72          28.0  11.0  18.714286    28\n",
       "73          29.0  11.0  17.100000    40\n",
       "74          32.0  13.0  22.703704    27"
      ]
     },
     "execution_count": 63,
     "metadata": {},
     "output_type": "execute_result"
    }
   ],
   "source": [
    "my_mpg = df.groupby(by=[\"model year\"]).agg({\"mpg\":[\"max\",\"min\",\"mean\",\"count\"]})\n",
    "my_mpg.head()"
   ]
  },
  {
   "cell_type": "markdown",
   "id": "2657efff-335e-4b3e-b1e9-136a8ce83ee9",
   "metadata": {},
   "source": [
    "#### Pandas ile görselleştirelim"
   ]
  },
  {
   "cell_type": "code",
   "execution_count": 77,
   "id": "a4cbe0d3-04eb-4517-8901-aa360ed3ed22",
   "metadata": {},
   "outputs": [
    {
     "data": {
      "text/plain": [
       "<AxesSubplot:xlabel='model year'>"
      ]
     },
     "execution_count": 77,
     "metadata": {},
     "output_type": "execute_result"
    },
    {
     "data": {
      "image/png": "[encoded data removed]",
      "text/plain": [
       "<Figure size 432x288 with 1 Axes>"
      ]
     },
     "metadata": {
      "needs_background": "light"
     },
     "output_type": "display_data"
    }
   ],
   "source": [
    "df_ozet = my_mpg.loc[:, (\"mpg\",[\"max\",\"min\"])].mpg\n",
    "df_ozet.plot(y=[\"max\",\"min\"]) #x ekseni varsayılan olarak satır etiketidir"
   ]
  },
  {
   "cell_type": "code",
   "execution_count": 82,
   "id": "9198f6f0-e040-4db0-ab66-32ab398cb48a",
   "metadata": {},
   "outputs": [
    {
     "data": {
      "text/plain": [
       "<AxesSubplot:xlabel='weight', ylabel='mpg'>"
      ]
     },
     "execution_count": 82,
     "metadata": {},
     "output_type": "execute_result"
    },
    {
     "data": {
      "image/png": "[encoded data removed]",
      "text/plain": [
       "<Figure size 432x288 with 1 Axes>"
      ]
     },
     "metadata": {
      "needs_background": "light"
     },
     "output_type": "display_data"
    }
   ],
   "source": [
    "#df.plot(x=\"weight\",y=\"mpg\", kind=\"scatter\")\n",
    "df.plot.scatter(x=\"weight\",y=\"mpg\")"
   ]
  },
  {
   "cell_type": "markdown",
   "id": "2e3254a1-38ff-4a3f-8cbe-29cbe1a4b13e",
   "metadata": {},
   "source": [
    "#### maptlotlib üzerinden görselleştirelim"
   ]
  },
  {
   "cell_type": "code",
   "execution_count": 100,
   "id": "a4e2aafc-77b6-44b3-bc52-636a988bf763",
   "metadata": {},
   "outputs": [
    {
     "data": {
      "image/png": "[encoded data removed]",
      "text/plain": [
       "<Figure size 432x288 with 1 Axes>"
      ]
     },
     "metadata": {
      "needs_background": "light"
     },
     "output_type": "display_data"
    }
   ],
   "source": [
    "plt.scatter(x=df.horsepower, y=df.mpg, color=\"red\", marker=\"^\")\n",
    "\n",
    "plt.title(\"Horsepower vs Mpg\", fontsize=16, color=\"Blue\")\n",
    "plt.xlabel(\"Horsepower\")\n",
    "plt.ylabel(\"MPG\")\n",
    "\n",
    "#text ekleyelim\n",
    "plt.annotate(\"En yüksek beygir gücü\",\n",
    "             xytext=(150,30),\n",
    "             xy=(230, 16),\n",
    "             arrowprops={\"facecolor\":\"red\", \"arrowstyle\":\"fancy\",\"connectionstyle\":\"angle3\"},\n",
    "             color=\"red\"\n",
    "            )\n",
    "\n",
    "plt.show()"
   ]
  },
  {
   "cell_type": "code",
   "execution_count": 104,
   "id": "78f67fa6-97e8-4d2d-8bf8-3e2861e99f5d",
   "metadata": {},
   "outputs": [
    {
     "data": {
      "text/html": [
       "<div>\n",
       "<style scoped>\n",
       "    .dataframe tbody tr th:only-of-type {\n",
       "        vertical-align: middle;\n",
       "    }\n",
       "\n",
       "    .dataframe tbody tr th {\n",
       "        vertical-align: top;\n",
       "    }\n",
       "\n",
       "    .dataframe thead tr th {\n",
       "        text-align: left;\n",
       "    }\n",
       "</style>\n",
       "<table border=\"1\" class=\"dataframe\">\n",
       "  <thead>\n",
       "    <tr>\n",
       "      <th></th>\n",
       "      <th>model year</th>\n",
       "      <th colspan=\"4\" halign=\"left\">mpg</th>\n",
       "    </tr>\n",
       "    <tr>\n",
       "      <th></th>\n",
       "      <th></th>\n",
       "      <th>max</th>\n",
       "      <th>min</th>\n",
       "      <th>mean</th>\n",
       "      <th>count</th>\n",
       "    </tr>\n",
       "  </thead>\n",
       "  <tbody>\n",
       "    <tr>\n",
       "      <th>0</th>\n",
       "      <td>70</td>\n",
       "      <td>27.0</td>\n",
       "      <td>9.0</td>\n",
       "      <td>17.689655</td>\n",
       "      <td>29</td>\n",
       "    </tr>\n",
       "    <tr>\n",
       "      <th>1</th>\n",
       "      <td>71</td>\n",
       "      <td>35.0</td>\n",
       "      <td>12.0</td>\n",
       "      <td>21.250000</td>\n",
       "      <td>28</td>\n",
       "    </tr>\n",
       "  </tbody>\n",
       "</table>\n",
       "</div>"
      ],
      "text/plain": [
       "  model year   mpg                       \n",
       "               max   min       mean count\n",
       "0         70  27.0   9.0  17.689655    29\n",
       "1         71  35.0  12.0  21.250000    28"
      ]
     },
     "execution_count": 104,
     "metadata": {},
     "output_type": "execute_result"
    }
   ],
   "source": [
    "my_mpg = my_mpg.reset_index()\n",
    "my_mpg.head(2)"
   ]
  },
  {
   "cell_type": "code",
   "execution_count": 105,
   "id": "07d1f1ce-e272-43b4-bedf-6485b8565f76",
   "metadata": {},
   "outputs": [
    {
     "data": {
      "text/plain": [
       "<BarContainer object of 13 artists>"
      ]
     },
     "execution_count": 105,
     "metadata": {},
     "output_type": "execute_result"
    },
    {
     "data": {
      "image/png": "[encoded data removed]",
      "text/plain": [
       "<Figure size 432x288 with 1 Axes>"
      ]
     },
     "metadata": {
      "needs_background": "light"
     },
     "output_type": "display_data"
    }
   ],
   "source": [
    "#hangi yılda kaç adet araç var.\n",
    "plt.bar(x=my_mpg[\"model year\"], height=my_mpg.mpg[\"count\"])"
   ]
  },
  {
   "cell_type": "markdown",
   "id": "3f52f3fc-6093-4f69-9e45-6f3fd54461b7",
   "metadata": {},
   "source": [
    "#### subplot ekleme"
   ]
  },
  {
   "cell_type": "code",
   "execution_count": 109,
   "id": "8807e532-c88b-47d3-8d45-00e32c67cabe",
   "metadata": {},
   "outputs": [
    {
     "data": {
      "text/html": [
       "<div>\n",
       "<style scoped>\n",
       "    .dataframe tbody tr th:only-of-type {\n",
       "        vertical-align: middle;\n",
       "    }\n",
       "\n",
       "    .dataframe tbody tr th {\n",
       "        vertical-align: top;\n",
       "    }\n",
       "\n",
       "    .dataframe thead th {\n",
       "        text-align: right;\n",
       "    }\n",
       "</style>\n",
       "<table border=\"1\" class=\"dataframe\">\n",
       "  <thead>\n",
       "    <tr style=\"text-align: right;\">\n",
       "      <th></th>\n",
       "      <th>cylinders</th>\n",
       "      <th>adet</th>\n",
       "    </tr>\n",
       "  </thead>\n",
       "  <tbody>\n",
       "    <tr>\n",
       "      <th>0</th>\n",
       "      <td>3</td>\n",
       "      <td>4</td>\n",
       "    </tr>\n",
       "    <tr>\n",
       "      <th>1</th>\n",
       "      <td>4</td>\n",
       "      <td>204</td>\n",
       "    </tr>\n",
       "    <tr>\n",
       "      <th>2</th>\n",
       "      <td>5</td>\n",
       "      <td>3</td>\n",
       "    </tr>\n",
       "    <tr>\n",
       "      <th>3</th>\n",
       "      <td>6</td>\n",
       "      <td>84</td>\n",
       "    </tr>\n",
       "    <tr>\n",
       "      <th>4</th>\n",
       "      <td>8</td>\n",
       "      <td>103</td>\n",
       "    </tr>\n",
       "  </tbody>\n",
       "</table>\n",
       "</div>"
      ],
      "text/plain": [
       "   cylinders  adet\n",
       "0          3     4\n",
       "1          4   204\n",
       "2          5     3\n",
       "3          6    84\n",
       "4          8   103"
      ]
     },
     "execution_count": 109,
     "metadata": {},
     "output_type": "execute_result"
    }
   ],
   "source": [
    "gr = df.groupby(by=\"cylinders\").agg({\"mpg\":\"count\"}).rename(columns={\"mpg\":\"adet\"}).reset_index()\n",
    "gr"
   ]
  },
  {
   "cell_type": "code",
   "execution_count": 117,
   "id": "1c2b2e86-0983-45ff-8ce7-3420a53d4ef6",
   "metadata": {},
   "outputs": [
    {
     "data": {
      "image/png": "[encoded data removed]",
      "text/plain": [
       "<Figure size 432x288 with 3 Axes>"
      ]
     },
     "metadata": {
      "needs_background": "light"
     },
     "output_type": "display_data"
    }
   ],
   "source": [
    "fig = plt.figure()\n",
    "\n",
    "#\n",
    "sp_15 = fig.add_subplot(2,3,(1,5))\n",
    "sp_3 = fig.add_subplot(2,3,3)\n",
    "sp_6 = fig.add_subplot(2,3,6)\n",
    "\n",
    "#\n",
    "sp_15.scatter(x=df.horsepower, y=df.mpg)\n",
    "sp_3.bar(x=my_mpg[\"model year\"], height=my_mpg.mpg[\"count\"])\n",
    "sp_6.pie(x=gr.adet, labels=[\"{} cc\".format(c) for c in gr.cylinders])\n",
    "\n",
    "plt.show()"
   ]
  }
 ],
 "metadata": {
  "kernelspec": {
   "display_name": "Python 3 (ipykernel)",
   "language": "python",
   "name": "python3"
  },
  "language_info": {
   "codemirror_mode": {
    "name": "ipython",
    "version": 3
   },
   "file_extension": ".py",
   "mimetype": "text/x-python",
   "name": "python",
   "nbconvert_exporter": "python",
   "pygments_lexer": "ipython3",
   "version": "3.8.12"
  }
 },
 "nbformat": 4,
 "nbformat_minor": 5
}
