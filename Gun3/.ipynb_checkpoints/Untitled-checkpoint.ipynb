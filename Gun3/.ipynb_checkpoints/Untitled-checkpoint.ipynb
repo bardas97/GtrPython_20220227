{
 "cells": [
  {
   "cell_type": "markdown",
   "id": "62c761f8-ce40-4c28-ae13-a77fdf121e29",
   "metadata": {},
   "source": [
    "### MPG Data Discovery\n",
    "* https://archive.ics.uci.edu/ml/machine-learning-databases/auto-mpg/auto-mpg.data"
   ]
  },
  {
   "cell_type": "code",
   "execution_count": null,
   "id": "6a14e14c-e373-4f9d-ae06-9d19bb45674c",
   "metadata": {},
   "outputs": [],
   "source": []
  }
 ],
 "metadata": {
  "kernelspec": {
   "display_name": "Python 3 (ipykernel)",
   "language": "python",
   "name": "python3"
  },
  "language_info": {
   "codemirror_mode": {
    "name": "ipython",
    "version": 3
   },
   "file_extension": ".py",
   "mimetype": "text/x-python",
   "name": "python",
   "nbconvert_exporter": "python",
   "pygments_lexer": "ipython3",
   "version": "3.8.12"
  }
 },
 "nbformat": 4,
 "nbformat_minor": 5
}
