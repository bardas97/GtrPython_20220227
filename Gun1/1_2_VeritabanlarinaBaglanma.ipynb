{
 "cells": [
  {
   "cell_type": "markdown",
   "id": "02b26e70-0c3c-4712-8d29-025b121f5171",
   "metadata": {},
   "source": [
    "## DBAPI\n",
    "* Tüm RDBMS kütüphanelerinin temelini oluşturur.\n",
    "* Amaç farklı veritabanları ile benzer şekilde çalışabilmeyi sağlamak.\n",
    "* https://www.python.org/dev/peps/pep-0249/\n",
    "* Bağlantı kurulacak servera özel kütüphane tercih edilmeldir. Bir server için birden fazla kütüphane olabilir.\n",
    "    * `pyodbc`, `pymssql`, `cx_oracle`, `sqlite2` vs.\n",
    "\n",
    "**Not:** İlişkisel veritabanlarında SQL dili kullanımı farklı olabilir. ANSI/ISO standartlarına göre büyük oranda benzerdir. Firmalar kendi kitlelerine göre eklemeler yapar. SQL, T-SQL, PL/SQL, SQL-PL."
   ]
  },
  {
   "cell_type": "markdown",
   "id": "b1bff99d-3ac1-4e73-917e-b42071a8980e",
   "metadata": {},
   "source": [
    "### Klasor ve dosya ile çalışma"
   ]
  },
  {
   "cell_type": "code",
   "execution_count": 2,
   "id": "df1351a6-45b9-435c-ba93-014b9f837019",
   "metadata": {},
   "outputs": [
    {
     "name": "stdout",
     "output_type": "stream",
     "text": [
      "C:\\Users\\Abdullah\\Documents\\_GtrPythonRepo_\\GtrPython_20220227\\Gun1\n"
     ]
    }
   ],
   "source": [
    "import os\n",
    "\n",
    "os.getcwd()\n",
    "#!cd #shell komutları kullanabiliriz."
   ]
  },
  {
   "cell_type": "code",
   "execution_count": 6,
   "id": "36f246c2-a928-4e22-a271-b2d076872327",
   "metadata": {},
   "outputs": [],
   "source": [
    "'''\n",
    "    . çalıştığımız yol\n",
    "    .. bir önceki yol\n",
    "    \n",
    "    linux -> /\n",
    "    windows -> / veya \\\\ veya raw string ile r\"c:\\nalbur\" , repr(\"C:\\nalbur\")\n",
    "    \n",
    "    relative path ./klasor/dosya.txt\n",
    "    absolute path c:\\\\klasor\\\\dosya.txt gibi.\n",
    "'''\n",
    "os.makedirs(\"./databases\",exist_ok=True)"
   ]
  },
  {
   "cell_type": "code",
   "execution_count": 9,
   "id": "bbc196e4-7cc5-4ad3-8957-162290a01369",
   "metadata": {},
   "outputs": [
    {
     "data": {
      "text/plain": [
       "True"
      ]
     },
     "execution_count": 9,
     "metadata": {},
     "output_type": "execute_result"
    }
   ],
   "source": [
    "os.path.exists(\"./databases\")\n",
    "\"databases\" in os.listdir()"
   ]
  },
  {
   "cell_type": "code",
   "execution_count": 11,
   "id": "a65000be-ff10-4d3c-b3e1-2a5b4e27eac5",
   "metadata": {},
   "outputs": [
    {
     "data": {
      "text/plain": [
       "False"
      ]
     },
     "execution_count": 11,
     "metadata": {},
     "output_type": "execute_result"
    }
   ],
   "source": [
    "os.path.isdir(\"./databases\")\n",
    "os.path.isfile(\"./databases\")"
   ]
  },
  {
   "cell_type": "code",
   "execution_count": 15,
   "id": "aaa74e15-045b-4d6f-a569-fa5f8c9f9aab",
   "metadata": {},
   "outputs": [
    {
     "name": "stdout",
     "output_type": "stream",
     "text": [
      "1_1_SoruCevap.ipynb\n",
      "1_2_VeritabanlarinaBaglanma.ipynb\n"
     ]
    }
   ],
   "source": [
    "#list(os.scandir(\".\"))\n",
    "\n",
    "for e in os.scandir(\".\"): #DirEntry\n",
    "    if e.is_file():\n",
    "        print(e.name)"
   ]
  },
  {
   "cell_type": "code",
   "execution_count": 18,
   "id": "25b9bdb9-00db-4169-9158-2cf23f196f33",
   "metadata": {},
   "outputs": [
    {
     "name": "stdout",
     "output_type": "stream",
     "text": [
      "1_1_SoruCevap.ipynb\n",
      "1_2_VeritabanlarinaBaglanma.ipynb\n",
      "1_1_SoruCevap-checkpoint.ipynb\n",
      "1_2_VeritabanlarinaBaglanma-checkpoint.ipynb\n"
     ]
    }
   ],
   "source": [
    "#alt yollara gitmek için walk\n",
    "list(os.walk(\".\")) #[(root, folders, files), (root, folders, files) .... ]\n",
    "\n",
    "\n",
    "for kok, klasorler, dosyalar in os.walk(\".\"):\n",
    "    for dsy in dosyalar:\n",
    "        print(dsy)"
   ]
  },
  {
   "cell_type": "markdown",
   "id": "e605a96b-dd20-4c7b-9a33-e49f1ecdfc84",
   "metadata": {},
   "source": [
    "### sqlite3 ile çalışmak\n",
    "* sqlite3 ayrı bir service kıurmadan çalışılan light bir veritabanı programıdır. (RDBMS)\n",
    "* sqlite3 engine indirip kurulabilir. https://www.sqlite.org/download.html\n",
    "* SQL komutları ile çalışır. Ücretli bir RDBMS lisansına sahip olmadan çalışma imkanı tanır. (Oracle, MSSQL, MYSQL vs.)\n",
    "* sqlitestudio ile bağlanıp nesneleri yöntebiliriz. Sorgular oluşturabiliriz. https://sqlitestudio.pl/\n",
    "\n",
    "**Not:** Serverlara bağlanmak için bir bağlantı cümlesine ihtiyaç duyarız. [Tüm bağlantı cümleleri](https://www.connectionstrings.com/)"
   ]
  },
  {
   "cell_type": "code",
   "execution_count": 19,
   "id": "faccb465-da6e-4b9c-b904-80d03398c37b",
   "metadata": {},
   "outputs": [],
   "source": [
    "import sqlite3"
   ]
  },
  {
   "cell_type": "code",
   "execution_count": 22,
   "id": "e9da7994-e659-4f56-bb58-2e83cb272ded",
   "metadata": {},
   "outputs": [],
   "source": [
    "#Data Source=c:\\mydb.db;Version=3;\n",
    "#Data Source=:memory:;Version=3;New=True;\n",
    "#Data Source=c:\\mydb.db;Version=3;Password=myPassword;\n",
    "\n",
    "con = sqlite3.connect(\"./databases/mesajDB.db\")\n",
    "#dir(con)"
   ]
  },
  {
   "cell_type": "code",
   "execution_count": 25,
   "id": "d59f1a4c-d18b-4193-9e6c-96a7ffa88302",
   "metadata": {},
   "outputs": [
    {
     "data": {
      "text/plain": [
       "<sqlite3.Cursor at 0x162d75d2c70>"
      ]
     },
     "execution_count": 25,
     "metadata": {},
     "output_type": "execute_result"
    }
   ],
   "source": [
    "#tablo oluştralım\n",
    "con.execute(\"\"\"\n",
    "CREATE TABLE mesaj\n",
    "(\n",
    "    Id int,\n",
    "    Metin nvarchar(100)\n",
    ")\n",
    "\"\"\")"
   ]
  },
  {
   "cell_type": "code",
   "execution_count": 24,
   "id": "3f5d841c-2496-43dc-9313-882d6adbb43f",
   "metadata": {},
   "outputs": [
    {
     "data": {
      "text/plain": [
       "<sqlite3.Cursor at 0x162d75d26c0>"
      ]
     },
     "execution_count": 24,
     "metadata": {},
     "output_type": "execute_result"
    }
   ],
   "source": [
    "#tablo silmek için\n",
    "#con.execute(\"DROP TABLE mesaj\")"
   ]
  },
  {
   "cell_type": "code",
   "execution_count": 26,
   "id": "3abc10bd-b135-4fbb-8bb6-f373f3d54a80",
   "metadata": {},
   "outputs": [],
   "source": [
    "#Kayıt girelim.\n",
    "con.execute(\"INSERT INTO mesaj VALUES(1,'1. Kayıt')\")\n",
    "con.execute(\"INSERT INTO mesaj VALUES(2,'2. Kayıt')\")\n",
    "con.execute(\"INSERT INTO mesaj VALUES(3,'3. Kayıt')\")\n",
    "con.execute(\"INSERT INTO mesaj VALUES(4,'4. Kayıt')\")\n",
    "con.execute(\"INSERT INTO mesaj VALUES(5,'5. Kayıt')\")\n",
    "\n",
    "con.commit() #auto commit yoksa işlemler geri alınır."
   ]
  },
  {
   "cell_type": "code",
   "execution_count": 33,
   "id": "b5320d6a-ed9c-4c58-ae65-b72385dea8d4",
   "metadata": {},
   "outputs": [],
   "source": [
    "#Kayıları okuyalı.m.\n",
    "#bağlantı üzerinden komut çalıştırılabilir geriye dönen cursor yakalanabilir. \n",
    "#baglantı üzerinden cursor oluşturulabilir. Cursoru ile sorgu çalıştırılabilir.\n",
    "\n",
    "#1. yöntem\n",
    "'''\n",
    "imlec=con.cursor()\n",
    "imlec.execute(\"SELECT * FROM mesaj LIMIT 3\")\n",
    "'''\n",
    "\n",
    "#2.yöntem\n",
    "imlec = con.execute(\"SELECT * FROM mesaj LIMIT 3\") #ustten 3 satır"
   ]
  },
  {
   "cell_type": "code",
   "execution_count": 34,
   "id": "5d5dc74f-a816-4437-b6c9-b621aef3e282",
   "metadata": {},
   "outputs": [
    {
     "data": {
      "text/plain": [
       "['Id', 'Metin']"
      ]
     },
     "execution_count": 34,
     "metadata": {},
     "output_type": "execute_result"
    }
   ],
   "source": [
    "#kolon bilgisi\n",
    "imlec.description\n",
    "\n",
    "kolonlar = [c[0] for c in imlec.description]\n",
    "kolonlar"
   ]
  },
  {
   "cell_type": "code",
   "execution_count": 35,
   "id": "22a3a45a-adb9-4e1a-a6d4-e513d761632b",
   "metadata": {},
   "outputs": [
    {
     "data": {
      "text/plain": [
       "[(1, '1. Kayıt'), (2, '2. Kayıt'), (3, '3. Kayıt')]"
      ]
     },
     "execution_count": 35,
     "metadata": {},
     "output_type": "execute_result"
    }
   ],
   "source": [
    "#satırları alalım\n",
    "satirlar = imlec.fetchall() #imlec sonuna kadar okur. sona geldiğinde boş döner.\n",
    "satirlar"
   ]
  },
  {
   "cell_type": "code",
   "execution_count": 42,
   "id": "7f37a50a-7e9b-41c6-8eb9-ae8ecccb5ae5",
   "metadata": {},
   "outputs": [
    {
     "name": "stdout",
     "output_type": "stream",
     "text": [
      "| Id  |       Metin        |\n",
      "----------------------------\n",
      "|  1  |      1. Kayıt      |\n",
      "|  2  |      2. Kayıt      |\n",
      "|  3  |      3. Kayıt      |\n"
     ]
    }
   ],
   "source": [
    "#ekrana yazdıralım.\n",
    "print(f\"|{kolonlar[0]:^5}|{kolonlar[1]:^20}|\")\n",
    "print(\"-\"*28) #contaninerlar bir sayı ile çarpılırsa elemanlar o kadar tekrarlanır\n",
    "\n",
    "for s in satirlar:\n",
    "    print(f\"|{s[0]:^5}|{s[1]:^20}|\")"
   ]
  },
  {
   "cell_type": "code",
   "execution_count": 51,
   "id": "71fdced4-7836-4f58-9738-77ee5256a483",
   "metadata": {},
   "outputs": [
    {
     "name": "stdout",
     "output_type": "stream",
     "text": [
      "Id:1 Metin:1. Kayıt \n",
      "Id:2 Metin:2. Kayıt \n",
      "Id:3 Metin:3. Kayıt \n"
     ]
    }
   ],
   "source": [
    "#zip ile paralele loop yapıyoruz. \n",
    "#print(kolonlar)\n",
    "#print(satirlar)\n",
    "\n",
    "for satir in satirlar:\n",
    "    for c_r in zip(kolonlar,satir): #unpacking ile kolon ve satırı alabiliriz. (Id, 1), (Metin, 1.Kayıt)\n",
    "        #print(\"{}:{}\".format(c_r[0],c_r[1]), end=\" \")\n",
    "        print(\"{}:{}\".format(*c_r), end=\" \") #* ile unpack ediyoruz.\n",
    "    print(\"\")\n",
    "        "
   ]
  },
  {
   "cell_type": "code",
   "execution_count": 64,
   "id": "cc315e66-645a-410d-9c7e-8f0c608bb829",
   "metadata": {},
   "outputs": [
    {
     "data": {
      "text/plain": [
       "[1, 2, 3, 4, 5, 6, 7, 8, 9]"
      ]
     },
     "execution_count": 64,
     "metadata": {},
     "output_type": "execute_result"
    }
   ],
   "source": [
    "a = [1,2,3]\n",
    "b = [4,5,6]\n",
    "c = [7,8,9]\n",
    "\n",
    "#a.append(b) #olduğu gibi ekler\n",
    "#a.extend(b)  #elemanları açarak verdi.\n",
    "#a.extend(b).extend(c) #HATA\n",
    "#a.extend(c)\n",
    "#a\n",
    "#----------\n",
    "#unpackign yöntemi\n",
    "[a,b,c]    #append\n",
    "[*a,*b,*c] #extend"
   ]
  },
  {
   "cell_type": "code",
   "execution_count": 65,
   "id": "e061a711-6124-41a5-8fe8-fc85b4e33639",
   "metadata": {},
   "outputs": [],
   "source": [
    "con.close() #kaynakları sertbest"
   ]
  },
  {
   "cell_type": "markdown",
   "id": "ed1fb942-0fa9-42a5-8c88-7666669a865b",
   "metadata": {},
   "source": [
    "#### Commit ve Rollback"
   ]
  },
  {
   "cell_type": "code",
   "execution_count": 67,
   "id": "2a553827-907c-4ff2-aae0-e254c061910c",
   "metadata": {},
   "outputs": [],
   "source": [
    "import sqlite3\n",
    "\n",
    "con = sqlite3.connect(\"databases/mesajDB.db\")"
   ]
  },
  {
   "cell_type": "code",
   "execution_count": 79,
   "id": "3d4a688c-bb0a-49a6-9fb9-838a91357c76",
   "metadata": {},
   "outputs": [
    {
     "data": {
      "text/plain": [
       "<sqlite3.Cursor at 0x162d7617180>"
      ]
     },
     "execution_count": 79,
     "metadata": {},
     "output_type": "execute_result"
    }
   ],
   "source": [
    "con.execute(\"DELETE FROM mesaj WHERE Id IN(1,3)\") #1 ve 3 IDli satırları silelim"
   ]
  },
  {
   "cell_type": "code",
   "execution_count": 80,
   "id": "08474a00-1881-4336-b936-3e951764cbe8",
   "metadata": {},
   "outputs": [
    {
     "data": {
      "text/plain": [
       "[(2, '2. Kayıt'), (4, '4. Kayıt'), (5, '5. Kayıt')]"
      ]
     },
     "execution_count": 80,
     "metadata": {},
     "output_type": "execute_result"
    }
   ],
   "source": [
    "con.execute(\"SELECT * FROM mesaj\").fetchall()"
   ]
  },
  {
   "cell_type": "code",
   "execution_count": 81,
   "id": "3d93fa46-211e-40a4-ab3f-624f01e93410",
   "metadata": {},
   "outputs": [],
   "source": [
    "con.rollback() #commit edilmediği sürece işlemler geri alınır.\n",
    "#con.commit() #işlemler kalıcı hale gelir."
   ]
  },
  {
   "cell_type": "code",
   "execution_count": 82,
   "id": "6b0dc70b-f78b-4fee-a61d-d09ec4e79bab",
   "metadata": {},
   "outputs": [
    {
     "data": {
      "text/plain": [
       "[(1, '1. Kayıt'),\n",
       " (2, '2. Kayıt'),\n",
       " (3, '3. Kayıt'),\n",
       " (4, '4. Kayıt'),\n",
       " (5, '5. Kayıt')]"
      ]
     },
     "execution_count": 82,
     "metadata": {},
     "output_type": "execute_result"
    }
   ],
   "source": [
    "con.execute(\"SELECT * FROM mesaj\").fetchall()"
   ]
  },
  {
   "cell_type": "markdown",
   "id": "b6dcbe23-826a-470c-87d1-3f163f847ae7",
   "metadata": {},
   "source": [
    "#### Pandas ile Okuma"
   ]
  },
  {
   "cell_type": "code",
   "execution_count": 83,
   "id": "8364a4a6-69b7-484e-8d87-cb2339ae3362",
   "metadata": {},
   "outputs": [],
   "source": [
    "import sqlite3\n",
    "\n",
    "con = sqlite3.connect(\"databases/mesajDB.db\")"
   ]
  },
  {
   "cell_type": "code",
   "execution_count": 93,
   "id": "076ae65e-78ef-43ca-b9d3-c08774d023d4",
   "metadata": {},
   "outputs": [
    {
     "data": {
      "text/html": [
       "<div>\n",
       "<style scoped>\n",
       "    .dataframe tbody tr th:only-of-type {\n",
       "        vertical-align: middle;\n",
       "    }\n",
       "\n",
       "    .dataframe tbody tr th {\n",
       "        vertical-align: top;\n",
       "    }\n",
       "\n",
       "    .dataframe thead th {\n",
       "        text-align: right;\n",
       "    }\n",
       "</style>\n",
       "<table border=\"1\" class=\"dataframe\">\n",
       "  <thead>\n",
       "    <tr style=\"text-align: right;\">\n",
       "      <th></th>\n",
       "      <th>Metin</th>\n",
       "    </tr>\n",
       "  </thead>\n",
       "  <tbody>\n",
       "    <tr>\n",
       "      <th>0</th>\n",
       "      <td>1. Kayıt</td>\n",
       "    </tr>\n",
       "    <tr>\n",
       "      <th>1</th>\n",
       "      <td>2. Kayıt</td>\n",
       "    </tr>\n",
       "    <tr>\n",
       "      <th>2</th>\n",
       "      <td>3. Kayıt</td>\n",
       "    </tr>\n",
       "  </tbody>\n",
       "</table>\n",
       "</div>"
      ],
      "text/plain": [
       "      Metin\n",
       "0  1. Kayıt\n",
       "1  2. Kayıt\n",
       "2  3. Kayıt"
      ]
     },
     "execution_count": 93,
     "metadata": {},
     "output_type": "execute_result"
    }
   ],
   "source": [
    "import pandas as pd\n",
    "\n",
    "df = pd.read_sql(\"SELECT * FROM mesaj\",con)\n",
    "\n",
    "type(df) #pandas.core.frame.DataFrame\n",
    "\n",
    "df\n",
    "df.head(2)\n",
    "df.tail(2)\n",
    "\n",
    "df.loc[:2,[\"Metin\"]]"
   ]
  },
  {
   "cell_type": "markdown",
   "id": "fb6cc2f9-bc93-4f7c-b7b4-f26c4b556ee2",
   "metadata": {},
   "source": [
    "### MSSQL (veya Orale) ile Çalışmak\n",
    "\n",
    "* MSSQL'e bağlanmak için farklı kütüphaneler kullanabiliriz. `pyodbc`, `pymssql`\n",
    "* Microsoft `pyodbc` kütüphanesini test takip ediyor\n",
    "* `pip install pyodbc` ile indirelim. `import pyodbc` çalışma alanına alınır.\n",
    "* Sonra seçtiğimiz drivera özel bağlantı cümlesini belirterek bağlanırız.\n",
    "\n",
    "\n",
    "* **Oracle** için:\n",
    "    * `pip install cx-Oracle`\n",
    "    * `ìmport cx_Oracle`\n",
    "    * `cx_Oracle.connect(\"username/password@localhost\")`\n",
    "    * Bağlanılacak makinede `Oracle Client` kurulu olmalıdır."
   ]
  },
  {
   "cell_type": "code",
   "execution_count": 94,
   "id": "676a755e-4d06-43f6-b7ad-fdfd68fdd224",
   "metadata": {},
   "outputs": [],
   "source": [
    "import pyodbc"
   ]
  },
  {
   "cell_type": "code",
   "execution_count": 95,
   "id": "8355908b-79b9-4dca-b98f-95c0fc6eb333",
   "metadata": {},
   "outputs": [
    {
     "data": {
      "text/plain": [
       "['SQL Server',\n",
       " 'SQL Server Native Client 11.0',\n",
       " 'SQL Server Native Client RDA 11.0',\n",
       " 'ODBC Driver 17 for SQL Server',\n",
       " 'Microsoft Access dBASE Driver (*.dbf, *.ndx, *.mdx)',\n",
       " 'Microsoft Access Driver (*.mdb, *.accdb)',\n",
       " 'Microsoft Excel Driver (*.xls, *.xlsx, *.xlsm, *.xlsb)',\n",
       " 'Microsoft Access Text Driver (*.txt, *.csv)']"
      ]
     },
     "execution_count": 95,
     "metadata": {},
     "output_type": "execute_result"
    }
   ],
   "source": [
    "pyodbc.drivers() #yüklü olan driverları listteler."
   ]
  },
  {
   "cell_type": "code",
   "execution_count": 100,
   "id": "ee97c92c-40f8-4aaf-81a9-00ab45d6c600",
   "metadata": {},
   "outputs": [
    {
     "data": {
      "text/plain": [
       "'Driver={ODBC Driver 17 for SQL Server};Server=localhost;Database=master;UID=sa;PWD=123;'"
      ]
     },
     "execution_count": 100,
     "metadata": {},
     "output_type": "execute_result"
    }
   ],
   "source": [
    "#bağlantı cümlesi oluşturalım.\n",
    "#Driver={ODBC Driver 17 for SQL Server};Server=myServerAddress;Database=myDataBase;UID=myUsername;PWD=myPassword;\n",
    "#Driver={ODBC Driver 17 for SQL Server};Server=myServerAddress;Database=myDataBase;Trusted_Connection=yes;\n",
    "\n",
    "server   = \"localhost\"\n",
    "database = \"master\"\n",
    "username = \"sa\"\n",
    "password = \"123\"\n",
    "#driver   = \"{ODBC Driver 17 for SQL Server}\"\n",
    "#\"Driver={};Server={};Database={};UID={};PWD={};\".format(driver, server,database, username, password)\n",
    "\n",
    "driver   = \"ODBC Driver 17 for SQL Server\"\n",
    "#{{}} ile {} üretiyoruz.\n",
    "\"Driver={{{}}};Server={};Database={};UID={};PWD={};\".format(driver, server,database, username, password)"
   ]
  },
  {
   "cell_type": "code",
   "execution_count": 105,
   "id": "596b28f0-6bef-40f9-8883-58e0baff3b90",
   "metadata": {},
   "outputs": [],
   "source": [
    "#con = pyodbc.connect(\"Driver={};Server={};Database={};UID={};PWD={};\".format(driver, server,database, username, password))\n",
    "\n",
    "dict_cntstr = {\n",
    "            \"driver\":\"{ODBC Driver 17 for SQL Server}\",\n",
    "            \"server\":\"localhost\",\n",
    "            \"database\":\"master\",\n",
    "            \"username\":\"sa\",\n",
    "            \"password\":\"123\"\n",
    "         }\n",
    "\n",
    "cntstr = \"Driver={driver};Server={server};Database={database};UID={username};PWD={password};\".format_map(dict_cntstr)\n",
    "cntstr\n",
    "\n",
    "con = pyodbc.connect(cntstr)"
   ]
  },
  {
   "cell_type": "code",
   "execution_count": 107,
   "id": "c4054f3f-3f37-4970-9617-92f019905fd5",
   "metadata": {},
   "outputs": [],
   "source": [
    "imlec = con.execute(\"SELECT @@VERSION\")"
   ]
  },
  {
   "cell_type": "code",
   "execution_count": 108,
   "id": "63487e3c-5a63-4c48-96e7-bab008694494",
   "metadata": {},
   "outputs": [
    {
     "data": {
      "text/plain": [
       "('Microsoft SQL Server 2019 (RTM-CU9) (KB5000642) - 15.0.4102.2 (X64) \\n\\tJan 25 2021 20:16:12 \\n\\tCopyright (C) 2019 Microsoft Corporation\\n\\tEnterprise Edition (64-bit) on Windows 10 Pro 10.0 <X64> (Build 19044: )\\n', )"
      ]
     },
     "execution_count": 108,
     "metadata": {},
     "output_type": "execute_result"
    }
   ],
   "source": [
    "tekSatirSutun = imlec.fetchone() #tek hücre olduğu için\n",
    "tekSatirSutun #sonuç tuple (version, )"
   ]
  },
  {
   "cell_type": "code",
   "execution_count": 110,
   "id": "3c62c139-2bf1-4e27-a438-0bdde3a0fb0e",
   "metadata": {},
   "outputs": [
    {
     "name": "stdout",
     "output_type": "stream",
     "text": [
      "Microsoft SQL Server 2019 (RTM-CU9) (KB5000642) - 15.0.4102.2 (X64) \n",
      "\tJan 25 2021 20:16:12 \n",
      "\tCopyright (C) 2019 Microsoft Corporation\n",
      "\tEnterprise Edition (64-bit) on Windows 10 Pro 10.0 <X64> (Build 19044: )\n",
      "\n"
     ]
    }
   ],
   "source": [
    "print(tekSatirSutun[0])"
   ]
  },
  {
   "cell_type": "code",
   "execution_count": 111,
   "id": "afd5b1eb-7fa6-406b-8071-2cf6ded1105e",
   "metadata": {},
   "outputs": [],
   "source": [
    "con.close()"
   ]
  }
 ],
 "metadata": {
  "kernelspec": {
   "display_name": "Python 3 (ipykernel)",
   "language": "python",
   "name": "python3"
  },
  "language_info": {
   "codemirror_mode": {
    "name": "ipython",
    "version": 3
   },
   "file_extension": ".py",
   "mimetype": "text/x-python",
   "name": "python",
   "nbconvert_exporter": "python",
   "pygments_lexer": "ipython3",
   "version": "3.8.12"
  }
 },
 "nbformat": 4,
 "nbformat_minor": 5
}
