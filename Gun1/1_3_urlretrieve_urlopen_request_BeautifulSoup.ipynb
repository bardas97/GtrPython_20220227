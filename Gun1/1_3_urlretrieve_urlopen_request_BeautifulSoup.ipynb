{
 "cells": [
  {
   "cell_type": "markdown",
   "id": "35f44eb9-a247-4110-96ff-d17507c3635e",
   "metadata": {},
   "source": [
    "## Webden İçerik Okumak\n",
    "\n",
    "* `urllib.request`\n",
    "    * `urlretrieve` ile dosya indirebiliriz.\n",
    "    * `urlopen` ile içeriği direkt okuyabiliriz. Content-Type ne ise o gelir. HTML, json, binary vs.\n",
    "* `request` ile `get` ve `post` gibi web talepleri gönderebiliriz. \n",
    "    * get ile webden içerik talep ederiz.\n",
    "    * post ile webdeki kaynağa bilgi gönderip içerik talep ederiz.\n",
    "        * mesela bir web service bizden bir resim isteyebilir. Resmi analiz edip çıktıları json olarak iletebilirz. \n",
    "        * Resmi body kısmında post yöntemi ile iletiriz.\n",
    "* `BeautifulSoup`  HTML, XML vs. metinleri python nesnelerine çevirmemizi sağlar."
   ]
  },
  {
   "cell_type": "code",
   "execution_count": 1,
   "id": "4f9de213-c431-4df1-b0f4-4d316e295d16",
   "metadata": {},
   "outputs": [],
   "source": [
    "from urllib.request import urlretrieve, urlopen"
   ]
  },
  {
   "cell_type": "markdown",
   "id": "6fb55139-1763-47f4-a5d2-ddf79c79982a",
   "metadata": {},
   "source": [
    "### urlretrieve"
   ]
  },
  {
   "cell_type": "code",
   "execution_count": 2,
   "id": "854e44ef-7219-45ab-877f-689a3bb1031c",
   "metadata": {},
   "outputs": [
    {
     "data": {
      "text/plain": [
       "('databases/pylogo.png', <http.client.HTTPMessage at 0x1c2f7586310>)"
      ]
     },
     "execution_count": 2,
     "metadata": {},
     "output_type": "execute_result"
    }
   ],
   "source": [
    "#webden dosya indirmek için\n",
    "urlretrieve(\"https://www.python.org/static/img/python-logo@2x.png\", filename=\"databases/pylogo.png\")"
   ]
  },
  {
   "cell_type": "markdown",
   "id": "af2960aa-805b-4446-9d99-8a4060149e36",
   "metadata": {},
   "source": [
    "### urlopen"
   ]
  },
  {
   "cell_type": "code",
   "execution_count": 12,
   "id": "d3eb8f32-5829-4b53-b92d-1e4a73b1e644",
   "metadata": {},
   "outputs": [
    {
     "name": "stdout",
     "output_type": "stream",
     "text": [
      "Connection: close\n",
      "Content-Length: 90254\n",
      "Server: nginx\n",
      "Content-Type: text/html; charset=utf-8\n",
      "X-Frame-Options: DENY\n",
      "Via: 1.1 vegur, 1.1 varnish, 1.1 varnish\n",
      "Accept-Ranges: bytes\n",
      "Date: Sun, 27 Feb 2022 11:19:01 GMT\n",
      "Age: 3119\n",
      "X-Served-By: cache-iad-kjyo7100050-IAD, cache-vie6328-VIE\n",
      "X-Cache: HIT, HIT\n",
      "X-Cache-Hits: 1, 1\n",
      "X-Timer: S1645960741.354142,VS0,VE1\n",
      "Vary: Cookie\n",
      "Strict-Transport-Security: max-age=63072000; includeSubDomains\n",
      "\n",
      "\n"
     ]
    }
   ],
   "source": [
    "#webden direkt içerik okumak için\n",
    "sayfa = urlopen(\"https://www.python.org/jobs/\") \n",
    "\n",
    "type(sayfa) #http.client.HTTPResponse\n",
    "\n",
    "print(sayfa.info())"
   ]
  },
  {
   "cell_type": "code",
   "execution_count": 13,
   "id": "f9ce14eb-4683-499a-96e2-fcb66399369c",
   "metadata": {},
   "outputs": [
    {
     "name": "stdout",
     "output_type": "stream",
     "text": [
      "\n",
      "\n",
      "<!doctype html>\n",
      "<!--[if lt IE 7]>   <html class=\"no-js ie6 lt-ie7 lt-ie8 lt-ie9\">   <![endif]-->\n",
      "<!--[if IE 7]>      <html class=\"no-js ie7 lt-ie8 lt-ie9\">          <![endif]-->\n",
      "<!--[if IE 8]>      <html class=\"no-js ie8 lt-ie9\">                 <![endif]-->\n",
      "<!--[if gt IE 8]><!--><html class=\"no-js\" lang=\"en\" dir=\"ltr\">  <!--<![endif]-->\n",
      "\n",
      "<head>\n",
      "    <meta charset=\"utf-8\">\n",
      "    <meta http-equiv=\"X-UA-Compatible\" content=\"IE=edge\">\n",
      "\n",
      "    <link rel=\"prefetch\" href=\"//ajax.googleapis.com/ajax/libs/jquery/1.8.2/jquery.min.js\">\n",
      "    <link rel=\"prefetch\" href=\"//ajax.googleapis.com/ajax/libs/jqueryui/1.12.1/jquery-ui.min.js\">\n",
      "\n",
      "    <meta name=\"application-name\" content=\"Python.org\">\n",
      "    <meta name=\"msapplication-tooltip\" content=\"The official home of the Python Programming Language\">\n",
      "    <meta name=\"apple-mobile-web-app-title\" content=\"Python.org\">\n",
      "    <meta name=\"apple-mobile-web-app-capable\" content=\"yes\">\n",
      "    <meta name=\"apple-mobile-web-app-status-bar-style\" content=\"black\">\n",
      "\n",
      "    <meta name\n"
     ]
    }
   ],
   "source": [
    "print(sayfa.read(1000).decode(\"utf-8\")) #varsayılan utf-8'dir byte string stringe çevirdik.\n",
    "#read ile imlec sona kadar okur."
   ]
  },
  {
   "cell_type": "markdown",
   "id": "6cded236-1430-4000-b247-a41a74a147a6",
   "metadata": {},
   "source": [
    "#### Resim içeriğini okuyalım ve Dosyaya kaydedelim"
   ]
  },
  {
   "cell_type": "code",
   "execution_count": 15,
   "id": "93ad9246-544f-4ded-be56-a2098a957624",
   "metadata": {},
   "outputs": [
    {
     "name": "stdout",
     "output_type": "stream",
     "text": [
      "Connection: close\n",
      "Content-Length: 15770\n",
      "Server: nginx\n",
      "Content-Type: image/png\n",
      "Last-Modified: Mon, 14 Feb 2022 13:52:11 GMT\n",
      "Etag: \"620a5e8b-3d9a\"\n",
      "Cache-Control: max-age=604800, public\n",
      "Via: 1.1 vegur, 1.1 varnish, 1.1 varnish\n",
      "Accept-Ranges: bytes\n",
      "Date: Sun, 27 Feb 2022 11:20:40 GMT\n",
      "Age: 263369\n",
      "X-Served-By: cache-iad-kjyo7100135-IAD, cache-hhn4065-HHN\n",
      "X-Cache: HIT, HIT\n",
      "X-Cache-Hits: 3, 12\n",
      "X-Timer: S1645960840.041213,VS0,VE0\n",
      "Strict-Transport-Security: max-age=63072000; includeSubDomains\n",
      "\n",
      "\n"
     ]
    }
   ],
   "source": [
    "icerik = urlopen(\"https://www.python.org/static/img/python-logo@2x.png\")\n",
    "print(icerik.info()) #Content-Type: image/png\n",
    "\n",
    "#resim içeriğini bir değişken üzerine atalım.\n",
    "resimBinary = icerik.read()"
   ]
  },
  {
   "cell_type": "code",
   "execution_count": 17,
   "id": "168a24f0-8bbb-4d32-b8ec-a16ba6912641",
   "metadata": {},
   "outputs": [],
   "source": [
    "#binary olarak dosyaya yazalım.\n",
    "with open(\"databases/pylogo2.png\", mode=\"wb\") as fw: #wb ile binary yazacağız.\n",
    "    fw.write(resimBinary)"
   ]
  },
  {
   "cell_type": "code",
   "execution_count": 18,
   "id": "7543e600-f112-4a54-8db3-fb012ab4119d",
   "metadata": {},
   "outputs": [
    {
     "data": {
      "text/plain": [
       "True"
      ]
     },
     "execution_count": 18,
     "metadata": {},
     "output_type": "execute_result"
    }
   ],
   "source": [
    "import os\n",
    "os.path.exists(\"databases/pylogo2.png\")"
   ]
  },
  {
   "cell_type": "code",
   "execution_count": null,
   "id": "bfb4e815-55ae-432c-b263-d546cc6fd8a4",
   "metadata": {},
   "outputs": [],
   "source": [
    "#soru:\n",
    "#BilgisayarAdı, KulanıcıAdı, Tarih şeklinde csv formatında log tutalım.\n"
   ]
  }
 ],
 "metadata": {
  "kernelspec": {
   "display_name": "Python 3 (ipykernel)",
   "language": "python",
   "name": "python3"
  },
  "language_info": {
   "codemirror_mode": {
    "name": "ipython",
    "version": 3
   },
   "file_extension": ".py",
   "mimetype": "text/x-python",
   "name": "python",
   "nbconvert_exporter": "python",
   "pygments_lexer": "ipython3",
   "version": "3.8.12"
  }
 },
 "nbformat": 4,
 "nbformat_minor": 5
}
