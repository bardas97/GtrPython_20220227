{
 "cells": [
  {
   "cell_type": "markdown",
   "id": "35f44eb9-a247-4110-96ff-d17507c3635e",
   "metadata": {},
   "source": [
    "## Webden İçerik Okumak\n",
    "\n",
    "* `urllib.request`\n",
    "    * `urlretrieve` ile dosya indirebiliriz.\n",
    "    * `urlopen` ile içeriği direkt okuyabiliriz. Content-Type ne ise o gelir. HTML, json, binary vs.\n",
    "* `request` ile `get` ve `post` gibi web talepleri gönderebiliriz. \n",
    "    * get ile webden içerik talep ederiz.\n",
    "    * post ile webdeki kaynağa bilgi gönderip içerik talep ederiz.\n",
    "        * mesela bir web service bizden bir resim isteyebilir. Resmi analiz edip çıktıları json olarak iletebilirz. \n",
    "        * Resmi body kısmında post yöntemi ile iletiriz.\n",
    "* `BeautifulSoup`  HTML, XML vs. metinleri python nesnelerine çevirmemizi sağlar."
   ]
  },
  {
   "cell_type": "code",
   "execution_count": 1,
   "id": "4f9de213-c431-4df1-b0f4-4d316e295d16",
   "metadata": {},
   "outputs": [],
   "source": [
    "from urllib.request import urlretrieve, urlopen"
   ]
  },
  {
   "cell_type": "markdown",
   "id": "6fb55139-1763-47f4-a5d2-ddf79c79982a",
   "metadata": {},
   "source": [
    "### urlretrieve"
   ]
  },
  {
   "cell_type": "code",
   "execution_count": 2,
   "id": "854e44ef-7219-45ab-877f-689a3bb1031c",
   "metadata": {},
   "outputs": [
    {
     "data": {
      "text/plain": [
       "('databases/pylogo.png', <http.client.HTTPMessage at 0x1c2f7586310>)"
      ]
     },
     "execution_count": 2,
     "metadata": {},
     "output_type": "execute_result"
    }
   ],
   "source": [
    "#webden dosya indirmek için\n",
    "urlretrieve(\"https://www.python.org/static/img/python-logo@2x.png\", filename=\"databases/pylogo.png\")"
   ]
  },
  {
   "cell_type": "markdown",
   "id": "af2960aa-805b-4446-9d99-8a4060149e36",
   "metadata": {},
   "source": [
    "### urlopen"
   ]
  },
  {
   "cell_type": "code",
   "execution_count": 12,
   "id": "d3eb8f32-5829-4b53-b92d-1e4a73b1e644",
   "metadata": {},
   "outputs": [
    {
     "name": "stdout",
     "output_type": "stream",
     "text": [
      "Connection: close\n",
      "Content-Length: 90254\n",
      "Server: nginx\n",
      "Content-Type: text/html; charset=utf-8\n",
      "X-Frame-Options: DENY\n",
      "Via: 1.1 vegur, 1.1 varnish, 1.1 varnish\n",
      "Accept-Ranges: bytes\n",
      "Date: Sun, 27 Feb 2022 11:19:01 GMT\n",
      "Age: 3119\n",
      "X-Served-By: cache-iad-kjyo7100050-IAD, cache-vie6328-VIE\n",
      "X-Cache: HIT, HIT\n",
      "X-Cache-Hits: 1, 1\n",
      "X-Timer: S1645960741.354142,VS0,VE1\n",
      "Vary: Cookie\n",
      "Strict-Transport-Security: max-age=63072000; includeSubDomains\n",
      "\n",
      "\n"
     ]
    }
   ],
   "source": [
    "#webden direkt içerik okumak için\n",
    "sayfa = urlopen(\"https://www.python.org/jobs/\") \n",
    "\n",
    "type(sayfa) #http.client.HTTPResponse\n",
    "\n",
    "print(sayfa.info())"
   ]
  },
  {
   "cell_type": "code",
   "execution_count": 13,
   "id": "f9ce14eb-4683-499a-96e2-fcb66399369c",
   "metadata": {},
   "outputs": [
    {
     "name": "stdout",
     "output_type": "stream",
     "text": [
      "\n",
      "\n",
      "<!doctype html>\n",
      "<!--[if lt IE 7]>   <html class=\"no-js ie6 lt-ie7 lt-ie8 lt-ie9\">   <![endif]-->\n",
      "<!--[if IE 7]>      <html class=\"no-js ie7 lt-ie8 lt-ie9\">          <![endif]-->\n",
      "<!--[if IE 8]>      <html class=\"no-js ie8 lt-ie9\">                 <![endif]-->\n",
      "<!--[if gt IE 8]><!--><html class=\"no-js\" lang=\"en\" dir=\"ltr\">  <!--<![endif]-->\n",
      "\n",
      "<head>\n",
      "    <meta charset=\"utf-8\">\n",
      "    <meta http-equiv=\"X-UA-Compatible\" content=\"IE=edge\">\n",
      "\n",
      "    <link rel=\"prefetch\" href=\"//ajax.googleapis.com/ajax/libs/jquery/1.8.2/jquery.min.js\">\n",
      "    <link rel=\"prefetch\" href=\"//ajax.googleapis.com/ajax/libs/jqueryui/1.12.1/jquery-ui.min.js\">\n",
      "\n",
      "    <meta name=\"application-name\" content=\"Python.org\">\n",
      "    <meta name=\"msapplication-tooltip\" content=\"The official home of the Python Programming Language\">\n",
      "    <meta name=\"apple-mobile-web-app-title\" content=\"Python.org\">\n",
      "    <meta name=\"apple-mobile-web-app-capable\" content=\"yes\">\n",
      "    <meta name=\"apple-mobile-web-app-status-bar-style\" content=\"black\">\n",
      "\n",
      "    <meta name\n"
     ]
    }
   ],
   "source": [
    "print(sayfa.read(1000).decode(\"utf-8\")) #varsayılan utf-8'dir byte string stringe çevirdik.\n",
    "#read ile imlec sona kadar okur."
   ]
  },
  {
   "cell_type": "markdown",
   "id": "6cded236-1430-4000-b247-a41a74a147a6",
   "metadata": {},
   "source": [
    "#### Resim içeriğini okuyalım ve Dosyaya kaydedelim"
   ]
  },
  {
   "cell_type": "code",
   "execution_count": 15,
   "id": "93ad9246-544f-4ded-be56-a2098a957624",
   "metadata": {},
   "outputs": [
    {
     "name": "stdout",
     "output_type": "stream",
     "text": [
      "Connection: close\n",
      "Content-Length: 15770\n",
      "Server: nginx\n",
      "Content-Type: image/png\n",
      "Last-Modified: Mon, 14 Feb 2022 13:52:11 GMT\n",
      "Etag: \"620a5e8b-3d9a\"\n",
      "Cache-Control: max-age=604800, public\n",
      "Via: 1.1 vegur, 1.1 varnish, 1.1 varnish\n",
      "Accept-Ranges: bytes\n",
      "Date: Sun, 27 Feb 2022 11:20:40 GMT\n",
      "Age: 263369\n",
      "X-Served-By: cache-iad-kjyo7100135-IAD, cache-hhn4065-HHN\n",
      "X-Cache: HIT, HIT\n",
      "X-Cache-Hits: 3, 12\n",
      "X-Timer: S1645960840.041213,VS0,VE0\n",
      "Strict-Transport-Security: max-age=63072000; includeSubDomains\n",
      "\n",
      "\n"
     ]
    }
   ],
   "source": [
    "icerik = urlopen(\"https://www.python.org/static/img/python-logo@2x.png\")\n",
    "print(icerik.info()) #Content-Type: image/png\n",
    "\n",
    "#resim içeriğini bir değişken üzerine atalım.\n",
    "resimBinary = icerik.read()"
   ]
  },
  {
   "cell_type": "code",
   "execution_count": 17,
   "id": "168a24f0-8bbb-4d32-b8ec-a16ba6912641",
   "metadata": {},
   "outputs": [],
   "source": [
    "#binary olarak dosyaya yazalım.\n",
    "with open(\"databases/pylogo2.png\", mode=\"wb\") as fw: #wb ile binary yazacağız.\n",
    "    fw.write(resimBinary)"
   ]
  },
  {
   "cell_type": "code",
   "execution_count": 18,
   "id": "7543e600-f112-4a54-8db3-fb012ab4119d",
   "metadata": {},
   "outputs": [
    {
     "data": {
      "text/plain": [
       "True"
      ]
     },
     "execution_count": 18,
     "metadata": {},
     "output_type": "execute_result"
    }
   ],
   "source": [
    "import os\n",
    "os.path.exists(\"databases/pylogo2.png\")"
   ]
  },
  {
   "cell_type": "code",
   "execution_count": 49,
   "id": "bfb4e815-55ae-432c-b263-d546cc6fd8a4",
   "metadata": {},
   "outputs": [],
   "source": [
    "#soru:\n",
    "#BilgisayarAdı, KulanıcıAdı, Tarih şeklinde csv formatında log tutalım.\n",
    "import os, datetime\n",
    "\n",
    "'''\n",
    "metin = \"{},{},{}\".format(os.getenv(\"COMPUTERNAME\"),\n",
    "                          os.getenv(\"USERNAME\"),\n",
    "                          datetime.datetime.now()#.strftime(\"%A\")\n",
    "                         )\n",
    "\n",
    "with open(\"databases/loglarim.csv\",mode=\"a\",encoding=\"UTF-8\") as fw:\n",
    "    fw.write(metin+\"\\n\")\n",
    "'''\n",
    "#---\n",
    "import csv\n",
    "\n",
    "with open(\"databases/loglarim.csv\",mode=\"a\",encoding=\"UTF-8\") as fw:\n",
    "    log = [os.getenv(\"COMPUTERNAME\"),os.getenv(\"USERNAME\"),datetime.datetime.now()]\n",
    "    csv.writer(fw,delimiter=\";\").writerow(log)\n",
    "    #csv.reader(fh, delimiter=\";\") #iterasyon yapılabilecek bir liste verir."
   ]
  },
  {
   "cell_type": "markdown",
   "id": "b6b1c108-0fe3-4315-909d-786261fd78e9",
   "metadata": {
    "tags": []
   },
   "source": [
    "### re kütüphanesi ile çalışmak\n",
    "\n",
    "* `import re` kütüphanes ile bir patern (regular expression) vererek metinsel verileri aratabiliriz.\n",
    "* https://www.regular-expressions.info/\n",
    "* https://regexr.com/"
   ]
  },
  {
   "cell_type": "code",
   "execution_count": 51,
   "id": "e8861fa9-dd25-4bd5-ad4e-35b93b37b56a",
   "metadata": {},
   "outputs": [],
   "source": [
    "import re\n",
    "#help(re)"
   ]
  },
  {
   "cell_type": "code",
   "execution_count": 68,
   "id": "dca4639c-9e8e-4b7b-aff3-8f80f74743ff",
   "metadata": {},
   "outputs": [],
   "source": [
    "metin = \"\"\"\n",
    "Merhaba,\n",
    "\n",
    "Herhangi bir sorunuz olursa abdullahkise@hotmail.com adresine mail atabilirsiniz. \n",
    "Bazen abdullahkise@gmail.com adresinede atmanız faydalı olabilir.\n",
    "\n",
    "Sağlıklı günler,\n",
    "\n",
    "Kise\n",
    "\"\"\"\n",
    "\n",
    "mail_paterni_ifadesi = r'[\\w\\.-]+@[\\w\\.-]+'"
   ]
  },
  {
   "cell_type": "markdown",
   "id": "f91bf478-3efe-4697-a9e6-d0e582e3c702",
   "metadata": {},
   "source": [
    "#### search, findall, split\n",
    "* `re.search` geriye Match nesnesi döndürür. Yoksa None döner.\n",
    "    * `re.match` ile Match nesnesi oluşturur.\n",
    "* `re.findall` bulduğu metinlerin liste halinde getirir.\n",
    "* `re.split` belirtilen ifadeyi ayraç olarak kullanma imkanı verir."
   ]
  },
  {
   "cell_type": "markdown",
   "id": "83f15009-678f-4e36-b207-36b17f22cb2c",
   "metadata": {},
   "source": [
    "##### search"
   ]
  },
  {
   "cell_type": "code",
   "execution_count": 69,
   "id": "3808e931-063a-42f1-b7fb-5ed6f95c54fb",
   "metadata": {},
   "outputs": [
    {
     "data": {
      "text/plain": [
       "'abdullahkise@hotmail.com'"
      ]
     },
     "execution_count": 69,
     "metadata": {},
     "output_type": "execute_result"
    }
   ],
   "source": [
    "search_match = re.search(mail_paterni_ifadesi, metin) #ilk bulduğunu Match olarak getirdi.\n",
    "\n",
    "search_match\n",
    "\n",
    "#-\n",
    "search_match.start()\n",
    "search_match.end()\n",
    "\n",
    "#-\n",
    "\n",
    "#search_match.string\n",
    "search_match.group(0) #regexteki () ile oluşturulan gurplardır."
   ]
  },
  {
   "cell_type": "markdown",
   "id": "0fa6fe26-4065-420a-b872-6556207b7f32",
   "metadata": {},
   "source": [
    "#### findall"
   ]
  },
  {
   "cell_type": "code",
   "execution_count": 70,
   "id": "f8514e7c-2e81-4f4d-b60d-81e788204339",
   "metadata": {},
   "outputs": [
    {
     "data": {
      "text/plain": [
       "['abdullahkise@hotmail.com', 'abdullahkise@gmail.com']"
      ]
     },
     "execution_count": 70,
     "metadata": {},
     "output_type": "execute_result"
    }
   ],
   "source": [
    "re.findall(mail_paterni_ifadesi,metin)"
   ]
  },
  {
   "cell_type": "markdown",
   "id": "bec85f77-707e-402f-be27-319d0076a935",
   "metadata": {},
   "source": [
    "##### match"
   ]
  },
  {
   "cell_type": "code",
   "execution_count": 65,
   "id": "9b9c01af-3fdb-4fe2-9d2e-4ce4ac8be470",
   "metadata": {},
   "outputs": [
    {
     "data": {
      "text/plain": [
       "'1586'"
      ]
     },
     "execution_count": 65,
     "metadata": {},
     "output_type": "execute_result"
    }
   ],
   "source": [
    "#örn\n",
    "metin = \"24.1586\"\n",
    "regex_ifadesi = r\"(\\d+).(\\d+)\" #raw string (r) ile metni göründüğü gibi değerlendiriyor.\n",
    "#() grup oluşturur.\n",
    "\n",
    "sonuc = re.match(regex_ifadesi,metin)\n",
    "\n",
    "sonuc.groups() #('24', '1586')\n",
    "sonuc.group(0)\n",
    "sonuc.group(1) #24\n",
    "sonuc.group(2) #1586"
   ]
  },
  {
   "cell_type": "code",
   "execution_count": 67,
   "id": "fe500047-25cf-4c77-ba03-06023868b9d5",
   "metadata": {},
   "outputs": [
    {
     "data": {
      "text/plain": [
       "'python'"
      ]
     },
     "execution_count": 67,
     "metadata": {},
     "output_type": "execute_result"
    }
   ],
   "source": [
    "#örn\n",
    "metin = \"www.python.org\"\n",
    "regex_ifadesi = r\"www\\.(.*)\\..{3}\"\n",
    "\n",
    "sonuc = re.match(regex_ifadesi,metin)\n",
    "sonuc.group(0)\n",
    "sonuc.group(1)"
   ]
  },
  {
   "cell_type": "markdown",
   "id": "28175150-f70f-468e-b13e-ae23b0a76a85",
   "metadata": {},
   "source": [
    "#### split"
   ]
  },
  {
   "cell_type": "code",
   "execution_count": 73,
   "id": "e8d85345-24d6-4ab9-aa3c-3077ce495d43",
   "metadata": {},
   "outputs": [
    {
     "data": {
      "text/plain": [
       "['Merhaba', 'dünyalı', 'nasılsın?']"
      ]
     },
     "execution_count": 73,
     "metadata": {},
     "output_type": "execute_result"
    }
   ],
   "source": [
    "degisenBoslukluMetin = \"Merhaba  dünyalı      nasılsın?\"\n",
    "re.split(\"\\s+\",degisenBoslukluMetin)"
   ]
  },
  {
   "cell_type": "code",
   "execution_count": 78,
   "id": "c8f73d9a-bb1f-467b-a8ca-b23851a72d3b",
   "metadata": {},
   "outputs": [
    {
     "data": {
      "text/plain": [
       "['Merhaba', 'benim', 'adım', 'python!']"
      ]
     },
     "execution_count": 78,
     "metadata": {},
     "output_type": "execute_result"
    }
   ],
   "source": [
    "#örn:\n",
    "metin = \"Merhaba,,,,... benim..,,,.,., adım.,.,.,.,, python!\"\n",
    "\n",
    "#\n",
    "regex_harf = \"[a-zA-Z]+\" #sadece harfler gelsin\n",
    "re.findall(regex_harf, metin)\n",
    "\n",
    "#\n",
    "regex_isaret = '[.?\\-\",]+'\n",
    "re.findall(regex_isaret, metin)\n",
    "\n",
    "#\n",
    "regex_ayrac = \"[,. ]+\"\n",
    "re.split(regex_ayrac,metin)"
   ]
  },
  {
   "cell_type": "markdown",
   "id": "eb09a0a0-1882-444d-a27f-0ed4760a34b7",
   "metadata": {},
   "source": [
    "#### compile ile paterni hazır etme\n",
    "* `re.compile` ile paterni oluşturuyoruz farkl ıyerlerde kullanabiliyoruz."
   ]
  },
  {
   "cell_type": "code",
   "execution_count": 83,
   "id": "0df2dc24-20c7-48f9-8aff-a01a3c0d66f0",
   "metadata": {},
   "outputs": [
    {
     "data": {
      "text/plain": [
       "False"
      ]
     },
     "execution_count": 83,
     "metadata": {},
     "output_type": "execute_result"
    }
   ],
   "source": [
    "#örn:\n",
    "#sadece izin verilen karakterler mi kullanılıyor?\n",
    "metin = \"merhaba!\"\n",
    "\n",
    "ptrn = re.compile(r\"[^a-zA-Z0-9]\") #bunlarında dışındakileri gördüğünde sonuc ver.\n",
    "bool(ptrn.search(metin)) #izin erilen dışında karekter var.\n",
    "\n",
    "not bool(ptrn.search(metin)) #sadece izin verilen karekterler kullnaılıyor."
   ]
  },
  {
   "cell_type": "code",
   "execution_count": 85,
   "id": "66aff04f-7888-43cb-956e-360fce6e1d48",
   "metadata": {},
   "outputs": [
    {
     "name": "stdout",
     "output_type": "stream",
     "text": [
      "/jobs/6234/ ---> Senior Application Developer\n",
      "/jobs/6233/ ---> Remote Back-end Developer (Golang, Python, SQL, and NoSQL)\n",
      "/jobs/6232/ ---> Remote DevOps Engineer (Python, Bash, AWS, and AWS Lambda)\n",
      "/jobs/6231/ ---> Senior Python Engineer - Remote\n",
      "/jobs/6230/ ---> Backend Software Engineer\n",
      "/jobs/6224/ ---> Database Analyst/Programmer\n",
      "/jobs/6223/ ---> Remote Data Engineer (AWS, SQL, PostgreSQL, Python, and APIs)\n",
      "/jobs/6222/ ---> Remote Software Developer (Cloud and Linux)\n",
      "/jobs/6221/ ---> Remote AWS DevOps Engineer (Java, Python, React, and GitLab CI/CD)\n",
      "/jobs/6220/ ---> Senior Software Engineer\n",
      "/jobs/6218/ ---> Sr Python Developer\n",
      "/jobs/6216/ ---> Remote Full Stack/Machine Learning Engineer (Ruby, JavaScript/TypeScript, and Python)\n",
      "/jobs/6214/ ---> Backend Python Programmer (Fully Remote)\n",
      "/jobs/6213/ ---> Staff Python Backend Engineer\n",
      "/jobs/6212/ ---> Remote Senior Full-Stack Web Developer\n",
      "/jobs/6211/ ---> Data Acquisition Engineer / Developer\n",
      "/jobs/6210/ ---> Senior Software Developer - Python\n",
      "/jobs/6209/ ---> Python/Django Developer\n",
      "/jobs/6208/ ---> Senior Software Engineer\n",
      "/jobs/6207/ ---> Senior Python Engineer - Remote\n",
      "/jobs/6206/ ---> Senior Software Engineer, Backend\n",
      "/jobs/6205/ ---> Engineering Data Scientist\n",
      "/jobs/6204/ ---> Senior Software Engineer\n",
      "/jobs/6203/ ---> Python Engineer\n",
      "/jobs/6202/ ---> Frontend/backend developer\n"
     ]
    }
   ],
   "source": [
    "#örn:\n",
    "html_metin = urlopen(\"https://www.python.org/jobs/\").read().decode(\"UTF-8\")  #decode - encode\n",
    "\n",
    "#<a href=\"/jobs/6234/\">Senior Application Developer</a>\n",
    "ptrn = re.compile(r'<a href=\"(/jobs/\\d+/)\">(.*?)</a>')\n",
    "\n",
    "for j in ptrn.findall(html_metin):\n",
    "    print(\"{} ---> {}\".format(*j))"
   ]
  },
  {
   "cell_type": "markdown",
   "id": "860a2937-7bc7-4143-9c15-7008c6c2b38e",
   "metadata": {},
   "source": [
    "### request ile get ve post\n",
    "* Özellikle web serviceler çalışırken get ve post taleplerini gönderiririz. Json kütüphanesi ile birlikte bu kütüphane kullanılır.\n",
    "* web kaynaklarına get ve post yöntemi ile talep göndermemizi sağlar.\n",
    "* `import json`\n",
    "    * json metinleri `json.loads(metin)` ile python nesnelerine çevirebilirz.\n",
    "    * python nesneleirni de `json.dumps(pyNesnesi)` ile json metinlerime çevirebilriz."
   ]
  },
  {
   "cell_type": "code",
   "execution_count": 86,
   "id": "697394d7-af9e-4d54-b623-10e15e2c3bad",
   "metadata": {},
   "outputs": [],
   "source": [
    "import requests"
   ]
  },
  {
   "cell_type": "markdown",
   "id": "83300394-f600-4709-b363-9d6d4367741e",
   "metadata": {},
   "source": [
    "##### Get Yöntemi"
   ]
  },
  {
   "cell_type": "code",
   "execution_count": 87,
   "id": "8d53639a-1476-49fc-8d18-f86ab5cf1789",
   "metadata": {},
   "outputs": [],
   "source": [
    "istek = requests.get(\"https://www.python.org/static/img/python-logo@2x.png\")"
   ]
  },
  {
   "cell_type": "code",
   "execution_count": 88,
   "id": "c9a8045f-3799-4f49-930c-3f58c0bbaeb3",
   "metadata": {},
   "outputs": [
    {
     "data": {
      "text/plain": [
       "200"
      ]
     },
     "execution_count": 88,
     "metadata": {},
     "output_type": "execute_result"
    }
   ],
   "source": [
    "istek.status_code #200 her şey yolundaç\n",
    "#https://tr.wikipedia.org/wiki/HTTP_durum_kodlar%C4%B1"
   ]
  },
  {
   "cell_type": "code",
   "execution_count": 89,
   "id": "4a0c2270-c7db-4b82-a93c-20de53c987f6",
   "metadata": {},
   "outputs": [
    {
     "data": {
      "text/plain": [
       "0.104782"
      ]
     },
     "execution_count": 89,
     "metadata": {},
     "output_type": "execute_result"
    }
   ],
   "source": [
    "istek.elapsed.total_seconds() #kaç sn de cevaplanmış."
   ]
  },
  {
   "cell_type": "code",
   "execution_count": 91,
   "id": "040efd8b-b4a5-4550-9bde-ef94109d36f7",
   "metadata": {},
   "outputs": [],
   "source": [
    "#istek.content #içeriğin kendisini görebilirsinz."
   ]
  },
  {
   "cell_type": "markdown",
   "id": "b003f6ea-9d14-4b29-9f9d-3998e208e72b",
   "metadata": {},
   "source": [
    "##### Post Yöntemi"
   ]
  },
  {
   "cell_type": "code",
   "execution_count": 92,
   "id": "740c1485-b44a-4167-954d-f45ff9cba6ba",
   "metadata": {},
   "outputs": [],
   "source": [
    "import requests"
   ]
  },
  {
   "cell_type": "code",
   "execution_count": 93,
   "id": "0d36dc70-1cbf-437a-9fee-a37aa0e044a2",
   "metadata": {},
   "outputs": [],
   "source": [
    "service_url=\"https://northeurope.api.cognitive.microsoft.com/text/analytics/v3.0/languages\"\n",
    "\n",
    "header = {\n",
    "            \"Content-Type\":\"application/json\",\n",
    "             \"Ocp-Apim-Subscription-Key\":\"********\"\n",
    "        }"
   ]
  },
  {
   "cell_type": "code",
   "execution_count": 99,
   "id": "44b83ab1-ab2c-4ef0-8788-4d8581f1bc7e",
   "metadata": {},
   "outputs": [
    {
     "data": {
      "text/plain": [
       "'Turkish'"
      ]
     },
     "execution_count": 99,
     "metadata": {},
     "output_type": "execute_result"
    }
   ],
   "source": [
    "metin = \"how are you?\" \n",
    "\n",
    "#\"{'documents': [{'id': 0, 'text': 'How are u?'}]}\"\n",
    "body_dict = {'documents': [{'id': 0, 'text': metin}]}\n",
    "body_dict\n",
    "\n",
    "#---\n",
    "#post talebini oluşturalım\n",
    "istek = requests.post(service_url, headers = header, data=str(body_dict).encode(\"UTF-8\"))\n",
    "\n",
    "istek.status_code #200 OK\n",
    "#iste.raise_for_status() #anormal bir durum varsa try ile yakalanacak hata fırlayıyor.\n",
    "\n",
    "dict_istek = istek.json()\n",
    "\n",
    "dict_istek.get(\"documents\")[0][\"detectedLanguage\"][\"name\"]"
   ]
  },
  {
   "cell_type": "markdown",
   "id": "82223e17-cd69-475b-a5cc-708c626fdfb9",
   "metadata": {},
   "source": [
    "### BeautifulSoup ile HTML Parse"
   ]
  },
  {
   "cell_type": "code",
   "execution_count": null,
   "id": "c713c75f-45b7-46c3-a5a1-ffdf7c4aaf70",
   "metadata": {},
   "outputs": [],
   "source": []
  }
 ],
 "metadata": {
  "kernelspec": {
   "display_name": "Python 3 (ipykernel)",
   "language": "python",
   "name": "python3"
  },
  "language_info": {
   "codemirror_mode": {
    "name": "ipython",
    "version": 3
   },
   "file_extension": ".py",
   "mimetype": "text/x-python",
   "name": "python",
   "nbconvert_exporter": "python",
   "pygments_lexer": "ipython3",
   "version": "3.8.12"
  }
 },
 "nbformat": 4,
 "nbformat_minor": 5
}
