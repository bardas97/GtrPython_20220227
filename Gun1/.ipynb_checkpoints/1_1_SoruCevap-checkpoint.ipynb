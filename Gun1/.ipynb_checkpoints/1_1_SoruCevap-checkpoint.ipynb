{
 "cells": [
  {
   "cell_type": "code",
   "execution_count": 2,
   "id": "ee3046e7-54c2-4bfa-aef1-a4e56b092df5",
   "metadata": {},
   "outputs": [
    {
     "data": {
      "text/plain": [
       "4"
      ]
     },
     "execution_count": 2,
     "metadata": {},
     "output_type": "execute_result"
    }
   ],
   "source": [
    "#Soru1:\n",
    "'''\n",
    "    Bir metin içerisindeki belirttiğimiz harfi saydıralım.\n",
    "'''\n",
    "metin = \"MeRHaba DÜnyalI NASılsın?\"\n",
    "aranacakHarf = \"a\"\n",
    "\n",
    "metin.lower().count(aranacakHarf.lower())"
   ]
  },
  {
   "cell_type": "code",
   "execution_count": 7,
   "id": "29135060-ebf5-463d-960c-e0dbc16c58b3",
   "metadata": {},
   "outputs": [
    {
     "data": {
      "text/plain": [
       "7"
      ]
     },
     "execution_count": 7,
     "metadata": {},
     "output_type": "execute_result"
    }
   ],
   "source": [
    "str.lower(\"merhaba\")\n",
    "\"merhaba\".lower()\n",
    "\"merhaba\".__len__()\n",
    "len(\"merhaba\")"
   ]
  },
  {
   "cell_type": "code",
   "execution_count": 33,
   "id": "1ae2d400-7efd-4a58-a80d-34c2d3454b99",
   "metadata": {},
   "outputs": [
    {
     "data": {
      "text/plain": [
       "NoneType"
      ]
     },
     "execution_count": 33,
     "metadata": {},
     "output_type": "execute_result"
    }
   ],
   "source": [
    "#Soru2:\n",
    "'''\n",
    "    Belirtilen sayılardan 3'e tam bölünenlerin adedini, toplamını ve sayıların kendisini döndüren bir fonksiyon yazalım.\n",
    "'''\n",
    "def fnk_topla_say(*sayilar):\n",
    "    \"\"\"\n",
    "        Birden fazla sayı alır ve 3'e tam bölünenleri getirir.\n",
    "        \n",
    "        Parametreler:\n",
    "        *sayılar: birden fazla değer alır.\n",
    "        return: dict nesnesi döner.\n",
    "    \"\"\"\n",
    "    #1.\n",
    "    '''\n",
    "    tamBolunenler = []\n",
    "    \n",
    "    for s in sayilar:\n",
    "        if s%3==0:\n",
    "            tamBolunenler.append(s) #ne görürse onu ekler. extend ise listeyi genişletir.\n",
    "    '''\n",
    "    tamBolunenler = [s for s in sayilar if s%3==0]\n",
    "    \n",
    "    return {\n",
    "                \"Toplam\"        :sum(tamBolunenler),\n",
    "                \"Adet\"          :len(tamBolunenler),\n",
    "                \"Tam Bölünenler\":set(tamBolunenler)\n",
    "            }\n",
    "\n",
    "#----------------\n",
    "sonuc = fnk_topla_say(1,2,3,132,13,21,3,13,12,3,1,321)\n",
    "\n",
    "sonuc[\"Toplam\"]\n",
    "#sonuc[\"olmayanKey\"] #key yoksa hata verir.\n",
    "type(sonuc.get(\"olmayanKey\")) #varsa gelir yoksa None döner."
   ]
  },
  {
   "cell_type": "code",
   "execution_count": 35,
   "id": "f20f0b5c-429b-4a2e-8a08-afe62267f15d",
   "metadata": {},
   "outputs": [
    {
     "name": "stdout",
     "output_type": "stream",
     "text": [
      "Help on function fnk_topla_say in module __main__:\n",
      "\n",
      "fnk_topla_say(*sayilar)\n",
      "        Birden fazla sayı alır ve 3'e tam bölünenleri getirir.\n",
      "        \n",
      "        Parametreler:\n",
      "        *sayılar: birden fazla değer alır.\n",
      "        return: dict nesnesi döner.\n",
      "    Bu sonradan eklendi.Bu sonradan eklendi.\n",
      "\n"
     ]
    }
   ],
   "source": [
    "#__doc__ ile help metni oluşturabiliriz.\n",
    "#help(fnk_topla_say)\n",
    "fnk_topla_say.__doc__ += \"Bu sonradan eklendi.\"\n",
    "\n",
    "help(fnk_topla_say)"
   ]
  },
  {
   "cell_type": "code",
   "execution_count": 11,
   "id": "c73d8011-1e09-4743-859f-f7809c8a1c4d",
   "metadata": {},
   "outputs": [
    {
     "name": "stdout",
     "output_type": "stream",
     "text": [
      "sinirsiz : (1, 2, 3, 3, 2)\n",
      "sinirsiz Key Value : {'Yas': 55}\n"
     ]
    }
   ],
   "source": [
    "'''\n",
    "    *sayilar : sınırsız sayıda değer alır\n",
    "    **parametre: sınırsız sayida key:value alır.\n",
    "'''\n",
    "\n",
    "def fnk_sinirsizlar(*sinirsiz , **sinirsizKeyValue):\n",
    "    print(f\"sinirsiz : {sinirsiz}\")\n",
    "    print(f\"sinirsiz Key Value : {sinirsizKeyValue}\")\n",
    "    \n",
    "#-----\n",
    "fnk_sinirsizlar(1,2,3,3,2,Yas=55)"
   ]
  },
  {
   "cell_type": "code",
   "execution_count": 31,
   "id": "1e302f8f-89c8-4206-8f79-46275f207951",
   "metadata": {},
   "outputs": [
    {
     "data": {
      "text/plain": [
       "'~~~~~~~~~~~~50.27~~~~~~~~~~~~~'"
      ]
     },
     "execution_count": 31,
     "metadata": {},
     "output_type": "execute_result"
    }
   ],
   "source": [
    "#Soru3:\n",
    "'''\n",
    "    Dışarıdan yarıçapı girilen dairenin alanını hesaplayan bir fonksiyon yazalım.\n",
    "    hata kontrollerini de yapalım.\n",
    "    Dairenin Alanı = pi * r^2\n",
    "'''\n",
    "import math\n",
    "\n",
    "def fnk_alan_hesapla(r):\n",
    "    alan = 0\n",
    "    \n",
    "    try:\n",
    "        r = float(r)\n",
    "    except Exception as ex:\n",
    "        print(\"Bir hata ile karşılaşıldı\")\n",
    "        print(\"System Message: \", ex)\n",
    "        alan = \"Hata !!!\"\n",
    "    else:\n",
    "        alan = math.pi * math.pow(r,2) #pow, r**2\n",
    "    \n",
    "    return alan\n",
    "\n",
    "#---------------------\n",
    "fnk_alan_hesapla(4)\n",
    "\n",
    "round(fnk_alan_hesapla(4),2) #round ile yuvarladık.\n",
    "\n",
    "#metin formatlayalım.\n",
    "format(fnk_alan_hesapla(4) , \"~^30.2f\") #virgülden sonra 2 basamak gösterir. ~^30 ile 30 karakter içerisine ortalıyoruz. boşluklara ~koyyduk.\n",
    "f\"{fnk_alan_hesapla(4):~^30.2f}\"\n",
    "\"{:~^30.2f}\".format(fnk_alan_hesapla(4))"
   ]
  },
  {
   "cell_type": "code",
   "execution_count": 19,
   "id": "b39d367a-957d-4cbd-bd99-271fd3a5ec73",
   "metadata": {},
   "outputs": [
    {
     "data": {
      "text/plain": [
       "False"
      ]
     },
     "execution_count": 19,
     "metadata": {},
     "output_type": "execute_result"
    }
   ],
   "source": [
    "\"2021\".isdigit() #pozitif tam sayı mı?\n",
    "\n",
    "#karakter bazlı bakar\n",
    "\"2021\".isnumeric() #umeric midir?\n",
    "\"2021\".isalpha()  #alfabedeki harflerden mi oluşuyor."
   ]
  },
  {
   "cell_type": "code",
   "execution_count": 72,
   "id": "b76d0210-8887-41a3-a26b-0b798ce87f7d",
   "metadata": {},
   "outputs": [
    {
     "data": {
      "text/plain": [
       "'lubnatsi'"
      ]
     },
     "execution_count": 72,
     "metadata": {},
     "output_type": "execute_result"
    }
   ],
   "source": [
    "#Soru4:\n",
    "'''\n",
    "    Verilen metni alfabe dışındaki karekterlerden temizleyelim. Metni düz ve tersten veren bir fonksiyon yazalım\n",
    "'''\n",
    "def fnk_temizle(metin):\n",
    "    temizMetin=\"\"\n",
    "    \n",
    "    for m in metin:\n",
    "        if m.isalpha():\n",
    "            temizMetin +=m\n",
    "            \n",
    "    return temizMetin, temizMetin[::-1] #start, stop, step --> tuple\n",
    "\n",
    "#---------------------\n",
    "fnk_temizle(\"lu123bn>at!si\")\n",
    "\n",
    "#unpacking\n",
    "ters, duz = fnk_temizle(\"lu123bn>at!si\")\n",
    "\n",
    "#ters = fnk_temizle(\"lu123bn>at!si\")[0]\n",
    "ters,_ =fnk_temizle(\"lu123bn>at!si\")\n",
    "ters"
   ]
  },
  {
   "cell_type": "code",
   "execution_count": 73,
   "id": "7b2ebcb8-41a7-409e-ae15-ebb6c4372e7c",
   "metadata": {},
   "outputs": [
    {
     "name": "stdout",
     "output_type": "stream",
     "text": [
      "1\n",
      "3\n",
      "21321\n"
     ]
    }
   ],
   "source": [
    "#unpacking işleminde _ tek bir değer için , *_ çoklu değer için yer tutucudur.\n",
    "x,_,y,*_,z = 1,2,3,2,1,3,3,21321\n",
    "'''\n",
    "    x : 1. deger\n",
    "    _ : 1 değer atla\n",
    "    y : 3. deger\n",
    "    z : son değer\n",
    "    *_: aradaki değerleri atla\n",
    "'''\n",
    "print(x,y,z,sep=\"\\n\")"
   ]
  },
  {
   "cell_type": "code",
   "execution_count": 71,
   "id": "2b5a0060-aa6b-4873-82a3-737a0fda85fd",
   "metadata": {},
   "outputs": [
    {
     "data": {
      "text/plain": [
       "'istanbul'"
      ]
     },
     "execution_count": 71,
     "metadata": {},
     "output_type": "execute_result"
    }
   ],
   "source": [
    "#en son ne kullanıldıysa onu getirmek için _\n",
    "_"
   ]
  },
  {
   "cell_type": "code",
   "execution_count": 40,
   "id": "87af4bcc-9df3-4866-b5d5-d0464ce056b4",
   "metadata": {},
   "outputs": [
    {
     "data": {
      "text/plain": [
       "'Monday'"
      ]
     },
     "execution_count": 40,
     "metadata": {},
     "output_type": "execute_result"
    }
   ],
   "source": [
    "#soru5:\n",
    "'''\n",
    "    Cumhuriyet hangi gün kuruldu.\n",
    "    29 Ekim 1923\n",
    "'''\n",
    "from datetime import datetime, date, time,timedelta\n",
    "\n",
    "#datetime(2023,2,27)\n",
    "#datetime.fromisoformat(\"2023-02-27\")\n",
    "datetime.strptime(\"29/10/1923\",\"%d/%m/%Y\").strftime(\"%A\")\n",
    "#strptime giriş formatı\n",
    "#strftime çıktı formatı"
   ]
  },
  {
   "cell_type": "code",
   "execution_count": 45,
   "id": "5db11d07-47fe-424d-8c93-54c026e49127",
   "metadata": {},
   "outputs": [
    {
     "data": {
      "text/plain": [
       "'Abdullah'"
      ]
     },
     "execution_count": 45,
     "metadata": {},
     "output_type": "execute_result"
    }
   ],
   "source": [
    "#soru6: Sezar Şifrelemesi (mesela 3 harf kaydırıyoruz. 3 anahtar.)\n",
    "\n",
    "chr(97) #karakter\n",
    "ord('a')#ascii\n",
    "\n",
    "def fnk_sezar(metin, anahtar, sifrelensinMi):\n",
    "    sonuc = \"\"\n",
    "    \n",
    "    for m in metin:\n",
    "        #sonuc += (chr(ord(m)+anahtar)) if sifrelensinMi else (chr(ord(m)-anahtar)) #ternary yöntemi\n",
    "        sonuc += (chr(ord(m)-anahtar),chr(ord(m)+anahtar))[sifrelensinMi] #0 ve yokluk False, diğerleri True. tuple-index ile\n",
    "        \n",
    "    return sonuc\n",
    "#---------------------\n",
    "fnk_sezar(\"Abdullah\",3,True)\n",
    "fnk_sezar(\"Degxoodk\",3,False)"
   ]
  },
  {
   "cell_type": "code",
   "execution_count": 46,
   "id": "f587de78-a691-4d4b-9341-eaabbda721f8",
   "metadata": {},
   "outputs": [
    {
     "data": {
      "text/plain": [
       "68.75"
      ]
     },
     "execution_count": 46,
     "metadata": {},
     "output_type": "execute_result"
    }
   ],
   "source": [
    "#soru7: cm olarak girilen boy bilgisine bakılarak ideal kilo hesabı yapalım. \n",
    "#Boy bilgisini floata dönüşecek mi diye kontrol edelim.\n",
    "#idealkilo  = boy-100-(boy-150)/4\n",
    "\n",
    "def isFloat(f):\n",
    "    try:\n",
    "        f = float(f)\n",
    "        return True\n",
    "    except:\n",
    "        return False\n",
    "#---------------------\n",
    "\n",
    "def fnk_ideal_kilo(cmBoy):\n",
    "    if isFloat(cmBoy):\n",
    "        return cmBoy-100-((cmBoy-150)/4)\n",
    "    else:\n",
    "        return \"Boy cm cinsinden sayısal bir değer olmalıdır.\"\n",
    "#--------------------\n",
    "\n",
    "fnk_ideal_kilo(175)"
   ]
  },
  {
   "cell_type": "code",
   "execution_count": 65,
   "id": "23aa8500-0011-4abb-b60d-b280e519e3dd",
   "metadata": {},
   "outputs": [
    {
     "data": {
      "text/plain": [
       "'Bu plaka tanımlı değil!'"
      ]
     },
     "execution_count": 65,
     "metadata": {},
     "output_type": "execute_result"
    }
   ],
   "source": [
    "#soru8:\n",
    "'''\n",
    "    Aşağıdaki metni dict'e çevirelim. plaka kodu verildiğinde ili getiren fonksiyonu yazalım\n",
    "'''\n",
    "\n",
    "plakaKodlar=\"\"\"\n",
    "İstanbul 34\n",
    "Ankara 06\n",
    "\n",
    "Adana 01\n",
    "Çorum 19\n",
    "Sakarya 54\n",
    "\"\"\"\n",
    "\n",
    "#plakaKodlar.split()\n",
    "[p for p in plakaKodlar.split(\"\\n\") if p] #0 ve yokluk (None, boş liste, tupel vs.) False olarak değerlendirilir.\n",
    "plakaKodlar.splitlines() #new lines karakterlerinin tamamını tanır\n",
    "#-------------\n",
    "\n",
    "def fnk_plaka_getir(plaka):\n",
    "    plakaListesi = [p.split(\" \")[::-1] for p in plakaKodlar.splitlines() if p]\n",
    "    dict_plakalar = dict(plakaListesi) #key:value şeklinde görünürse direkt dicte çevrilebilir.\n",
    "    \n",
    "    cagri = dict_plakalar.get(plaka) #varsa gelir yoksa None gelir.\n",
    "    \n",
    "    return cagri if cagri else \"Bu plaka tanımlı değil!\"\n",
    "\n",
    "#----------------\n",
    "fnk_plaka_getir(\"34\")\n",
    "fnk_plaka_getir(\"25\")"
   ]
  }
 ],
 "metadata": {
  "kernelspec": {
   "display_name": "Python 3 (ipykernel)",
   "language": "python",
   "name": "python3"
  },
  "language_info": {
   "codemirror_mode": {
    "name": "ipython",
    "version": 3
   },
   "file_extension": ".py",
   "mimetype": "text/x-python",
   "name": "python",
   "nbconvert_exporter": "python",
   "pygments_lexer": "ipython3",
   "version": "3.8.12"
  }
 },
 "nbformat": 4,
 "nbformat_minor": 5
}
