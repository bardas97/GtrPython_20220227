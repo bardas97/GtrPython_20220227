{
 "cells": [
  {
   "cell_type": "code",
   "execution_count": null,
   "id": "ee3046e7-54c2-4bfa-aef1-a4e56b092df5",
   "metadata": {},
   "outputs": [],
   "source": [
    "#Soru1:\n",
    "'''\n",
    "    Bir metin içerisindeki belirttiğimiz harfi saydıralım.\n",
    "'''"
   ]
  },
  {
   "cell_type": "code",
   "execution_count": null,
   "id": "1ae2d400-7efd-4a58-a80d-34c2d3454b99",
   "metadata": {},
   "outputs": [],
   "source": [
    "#Soru2:\n",
    "'''\n",
    "    Belirtilen sayılardan 3'e tam bölünenlerin adedini, toplamını ve sayıların kendisini döndüren bir fonksiyon yazalım.\n",
    "'''"
   ]
  },
  {
   "cell_type": "code",
   "execution_count": null,
   "id": "1e302f8f-89c8-4206-8f79-46275f207951",
   "metadata": {},
   "outputs": [],
   "source": [
    "#Soru3:\n",
    "'''\n",
    "    Dışarıdan yarıçapı girilen dairenin alanını hesaplayan bir fonksiyon yazalım.\n",
    "    hata kontrollerini de yapalım.\n",
    "    Dairenin Alanı = pi * r^2\n",
    "'''"
   ]
  },
  {
   "cell_type": "code",
   "execution_count": null,
   "id": "b76d0210-8887-41a3-a26b-0b798ce87f7d",
   "metadata": {},
   "outputs": [],
   "source": [
    "#Soru4:\n",
    "'''\n",
    "    Verilen metindeki alfabe dışındaki karekterlerden temizleyelim. Metni düz ve tersten veren bir fonksiyon yazalım\n",
    "'''"
   ]
  },
  {
   "cell_type": "code",
   "execution_count": null,
   "id": "87af4bcc-9df3-4866-b5d5-d0464ce056b4",
   "metadata": {},
   "outputs": [],
   "source": [
    "#soru5:\n",
    "'''\n",
    "    Cumhuriyet hangi gün kuruldu.\n",
    "    29 Ekim 1923\n",
    "'''"
   ]
  },
  {
   "cell_type": "code",
   "execution_count": null,
   "id": "5db11d07-47fe-424d-8c93-54c026e49127",
   "metadata": {},
   "outputs": [],
   "source": [
    "#soru6: Sezar Şifrelemesi (mesela 3 harf kaydırıyoruz. 3 anahtar.)"
   ]
  },
  {
   "cell_type": "code",
   "execution_count": null,
   "id": "f587de78-a691-4d4b-9341-eaabbda721f8",
   "metadata": {},
   "outputs": [],
   "source": [
    "#soru7: cm olarak girilen boy bilgisine bakılarak ideal kilo hesabı yapalım. \n",
    "#Boy bilgisini floata dönüşecek mi diye kontrol edelim.\n",
    "#idealkilo  = boy-100-(boy-150)/4"
   ]
  },
  {
   "cell_type": "code",
   "execution_count": null,
   "id": "23aa8500-0011-4abb-b60d-b280e519e3dd",
   "metadata": {},
   "outputs": [],
   "source": [
    "#soru8:\n",
    "'''\n",
    "    Aşağıdaki metni dict'e çevirelim. plaka kodu verildiğinde ili getiren fonksiyonu yazalım\n",
    "'''\n",
    "\n",
    "plakaKodlar=\"\"\"\n",
    "İstanbul 34\n",
    "Ankara 06\n",
    "\n",
    "Adana 01\n",
    "Çorum 19\n",
    "Sakarya 54\n",
    "\"\"\""
   ]
  }
 ],
 "metadata": {
  "kernelspec": {
   "display_name": "Python 3 (ipykernel)",
   "language": "python",
   "name": "python3"
  },
  "language_info": {
   "codemirror_mode": {
    "name": "ipython",
    "version": 3
   },
   "file_extension": ".py",
   "mimetype": "text/x-python",
   "name": "python",
   "nbconvert_exporter": "python",
   "pygments_lexer": "ipython3",
   "version": "3.8.12"
  }
 },
 "nbformat": 4,
 "nbformat_minor": 5
}
