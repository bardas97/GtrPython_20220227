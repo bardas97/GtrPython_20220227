{
 "cells": [
  {
   "cell_type": "markdown",
   "id": "d99e3b9f-1173-408a-9705-5da4abc97074",
   "metadata": {},
   "source": [
    "### BeautifulSoup ile HTML Parse Etmek\n",
    "\n",
    "* HTML etiketlerini tanıyıp python nesneleri olarak kullanabilmemizi sağlar.\n",
    "* `pip install beautifulsoup4`\n",
    "* `from bs4 import BeautifulSoup`\n",
    "* Kaynaklar:\n",
    "    * http://crummy.com/software/BeautifulSoup\n",
    "    * https://www.crummy.com/software/BeautifulSoup/bs4/doc/"
   ]
  },
  {
   "cell_type": "code",
   "execution_count": 4,
   "id": "ccbabea8-fc3c-4ed0-b074-70e320f24a38",
   "metadata": {},
   "outputs": [],
   "source": [
    "from bs4 import BeautifulSoup\n",
    "from urllib.request import urlopen"
   ]
  },
  {
   "cell_type": "code",
   "execution_count": 9,
   "id": "d5aa5fe0-4d2e-4188-8585-3c9187a16cb6",
   "metadata": {},
   "outputs": [],
   "source": [
    "sayfa = urlopen(\"https://www.python.org/jobs/\")\n",
    "#print(sayfa.info())\n",
    "html_metin = sayfa.read().decode(\"utf-8\") #utf-8"
   ]
  },
  {
   "cell_type": "code",
   "execution_count": 13,
   "id": "c9c64b35-544d-463b-b516-9f23ef45b172",
   "metadata": {},
   "outputs": [
    {
     "data": {
      "text/plain": [
       "bs4.BeautifulSoup"
      ]
     },
     "execution_count": 13,
     "metadata": {},
     "output_type": "execute_result"
    }
   ],
   "source": [
    "soup = BeautifulSoup(html_metin, \"html.parser\") #bir çok parser mevcut\n",
    "\n",
    "type(soup) #bs4.BeautifulSoup\n",
    "#dir(soup)\n",
    "#help(soup)"
   ]
  },
  {
   "cell_type": "markdown",
   "id": "c52c372e-113f-45ed-828d-6a6f3016e97b",
   "metadata": {
    "tags": []
   },
   "source": [
    "#### ilk etikete ulaşmak\n",
    "* `nesne.altnesne.enaltnesne` ile ilk bulduğunumuz nesne elde edilir.\n",
    "* `nesne.altnesne(\"enaltnesne\")` ile bütün enaltnesneler elde edilir."
   ]
  },
  {
   "cell_type": "code",
   "execution_count": 14,
   "id": "df4e94f1-ea20-456d-9ffb-b235567bb011",
   "metadata": {},
   "outputs": [
    {
     "data": {
      "text/plain": [
       "<title>Python Job Board | Python.org</title>"
      ]
     },
     "execution_count": 14,
     "metadata": {},
     "output_type": "execute_result"
    }
   ],
   "source": [
    "soup.title"
   ]
  },
  {
   "cell_type": "code",
   "execution_count": 19,
   "id": "85013153-026e-472c-abdb-82351ce5af22",
   "metadata": {},
   "outputs": [
    {
     "data": {
      "text/plain": [
       "'Get exploring!'"
      ]
     },
     "execution_count": 19,
     "metadata": {},
     "output_type": "execute_result"
    }
   ],
   "source": [
    "soup.h2 #ilk bulduğu h2\n",
    "soup.h2.string #h2 etiketi içerisindeki metin"
   ]
  },
  {
   "cell_type": "code",
   "execution_count": 24,
   "id": "7d71de5e-4062-478c-955d-7b581636f2eb",
   "metadata": {},
   "outputs": [
    {
     "data": {
      "text/plain": [
       "'Python'"
      ]
     },
     "execution_count": 24,
     "metadata": {},
     "output_type": "execute_result"
    }
   ],
   "source": [
    "#ilk li etiketi\n",
    "soup.li.a.string #sadece a etiketi içerisinde metni getirir.\n",
    "soup.li.a.text   #a ve onun altındaki tüm etiketlerin metnini getirir."
   ]
  },
  {
   "cell_type": "code",
   "execution_count": 32,
   "id": "f96411d8-db50-489d-90e3-fce1aaef9a0f",
   "metadata": {},
   "outputs": [
    {
     "data": {
      "text/plain": [
       "[<h2 class=\"listing-company\">\n",
       " <span class=\"listing-company-name\">\n",
       " <span class=\"listing-new\">New</span>\n",
       " <a href=\"/jobs/6292/\">Senior Django/Python Back End Developer - Virtual</a><br/>\n",
       " \t\t    Aon Cyber Solutions\n",
       "                 </span>\n",
       " <span class=\"listing-location\"><a href=\"/jobs/location/virtual-in-us-united-states/\" title=\"More jobs in Virtual in U.S., United States\">Virtual in U.S., United States</a></span>\n",
       " </h2>,\n",
       " <h2 class=\"listing-company\">\n",
       " <span class=\"listing-company-name\">\n",
       " <span class=\"listing-new\">New</span>\n",
       " <a href=\"/jobs/6291/\">Junior Python Back-End Developer</a><br/>\n",
       " \t\t    FELFEL\n",
       "                 </span>\n",
       " <span class=\"listing-location\"><a href=\"/jobs/location/zurich-zurich-switzerland/\" title=\"More jobs in Zürich, Zürich, Switzerland\">Zürich, Zürich, Switzerland</a></span>\n",
       " </h2>]"
      ]
     },
     "execution_count": 32,
     "metadata": {},
     "output_type": "execute_result"
    }
   ],
   "source": [
    "soup.body.section.h2 #ilk h2 etiketi\n",
    "soup.body.section(\"h2\") #section altındaki tüm h2'leri getirdi.\n",
    "\n",
    "soup.body.section(\"h2\")[:2] #ilk 2 h2 elementi"
   ]
  },
  {
   "cell_type": "code",
   "execution_count": 36,
   "id": "53510237-8cc5-4dbf-93a6-4c7479257b58",
   "metadata": {},
   "outputs": [
    {
     "name": "stdout",
     "output_type": "stream",
     "text": [
      "Senior Django/Python Back End Developer - Virtual --> /jobs/6292/\n",
      "Junior Python Back-End Developer --> /jobs/6291/\n",
      "Senior Engineer - Back-end (Python) --> /jobs/6290/\n",
      "Senior Python Full Stack Developer --> /jobs/6289/\n",
      "Python Backend Developer --> /jobs/6288/\n",
      "Remote Back-end Engineer (PHP and Python) --> /jobs/6287/\n",
      "Remote Senior Data Engineer (Python, Go, HTTP, RESTful Design, HTML, and JavaScript) --> /jobs/6286/\n",
      "Python Consultant --> /jobs/6285/\n",
      "Remote Senior Software/Staff Engineer (Swift, Objective-C, Java, Python, Go, Rust, and C++) --> /jobs/6284/\n",
      "Python engineer --> /jobs/6283/\n",
      "Python Test Engineer --> /jobs/6282/\n",
      "Senior Django/Python Back End Developer - Virtual --> /jobs/6279/\n",
      "Python Developer --> /jobs/6278/\n",
      "SENIOR PYTHON BACK-END DEVELOPER --> /jobs/6277/\n",
      "Sr Python Developer --> /jobs/6276/\n",
      "[Remote] Senior Software Engineer (Full Stack/Python) --> /jobs/6275/\n",
      "Python Founding Back-End engineer & Architect --> /jobs/6274/\n",
      "Junior Python Developer --> /jobs/6273/\n",
      "Open-source Python Engineer --> /jobs/6272/\n",
      "Remote Senior Python Back-end Engineer (React, AWS, Python 3.x, FastAPI, and relational databases) --> /jobs/6271/\n",
      "Senior Software Engineer (Django) --> /jobs/6270/\n",
      "Senior Python Engineer --> /jobs/6269/\n",
      "Senior Python Engineer --> /jobs/6267/\n",
      "Lead Software Engineer at Silicon Valley Payments Startup --> /jobs/6266/\n",
      "Remote Full Stack Back-end-heavy Engineer (Python, Flask, and React.js) --> /jobs/6265/\n"
     ]
    }
   ],
   "source": [
    "#örn:\n",
    "#iş ilanlarını çekelim.\n",
    "#<a href=\"/jobs/6290/\">Senior Engineer - Back-end (Python)</a>\n",
    "\n",
    "for h in soup.body.section(\"h2\"):\n",
    "    #print(h.a)\n",
    "    #print(f\"{h.a.string} --> {h.a['href']}\") # h.a['href'] ile elementlerini attributelerini okuyabiliriz.\n",
    "    print(f\"{h.a.string} --> {h.a.get('href')}\")"
   ]
  },
  {
   "cell_type": "markdown",
   "id": "13013bd1-9d70-494f-8f9d-5328ae11ff39",
   "metadata": {},
   "source": [
    "#### Birden fazla etikete ulaşmak\n",
    "* `[f for f in dir(soup) if \"find\" in f] #starwith`\n",
    "    * Doğrudan bulur\n",
    "        * `find_all` ve `find`\n",
    "    * önceki ve sonrak elementlere ulaşmamızı sağlayanlar\n",
    "        * `find_all_next()` ve `find_next()`\n",
    "        * `find_all_previous()` ve `find_previous()`\n",
    "        * `find_next_sibling()` ve `find_previous_sibling()`\n",
    "    * Parametreler (name, attrs, string, limit, kwarg)\n",
    "        * `name=etiket` ---> a, h2 vs\n",
    "        * `attrs={\"class\":\"classDegeri\"}` --> key:value şeklinde attributeler id, href, class\n",
    "            * `class_:cssClass` şeklinde açık olarak da gönderilebilir kwargs \n",
    "        "
   ]
  },
  {
   "cell_type": "markdown",
   "id": "5be66cb4-3334-4a18-aee9-ee5ac00f64b1",
   "metadata": {},
   "source": [
    "#### find\n",
    "* sayfanın tamamında bir şey aramızı sağlar. İlkini getirir.\n",
    "* `find(name=None, attrs={}, recursive=True, text=None, **kwargs)`"
   ]
  },
  {
   "cell_type": "code",
   "execution_count": 43,
   "id": "5a556480-f28b-45dd-8570-078bbb765a3e",
   "metadata": {},
   "outputs": [
    {
     "data": {
      "text/plain": [
       "['welcome-message']"
      ]
     },
     "execution_count": 43,
     "metadata": {},
     "output_type": "execute_result"
    }
   ],
   "source": [
    "nesne = soup.find(name=\"h2\") #ilk h2 etiketi\n",
    "\n",
    "nesne #<h2 class=\"welcome-message\">Get exploring!</h2>\n",
    "nesne.text\n",
    "\n",
    "#attributeleri \n",
    "nesne[\"class\"]\n",
    "nesne.get(\"class\")"
   ]
  },
  {
   "cell_type": "markdown",
   "id": "e1ace12c-5528-4e0c-a2a2-cf89192925e9",
   "metadata": {},
   "source": [
    "#### find_all\n",
    "* sayfanın tamamın bir şey arayıp tüm bulunanları getirir."
   ]
  },
  {
   "cell_type": "code",
   "execution_count": 46,
   "id": "caa2c375-a392-4054-8d8d-cfe0921488ed",
   "metadata": {},
   "outputs": [
    {
     "name": "stdout",
     "output_type": "stream",
     "text": [
      "#content\n",
      "#python-network\n",
      "/\n",
      "/psf-landing/\n",
      "https://docs.python.org\n"
     ]
    }
   ],
   "source": [
    "#örn:\n",
    "#tüm a etiketlerinin linklerini çekelim.\n",
    "for link in soup.find_all(name=\"a\", limit=5): #tüm a etiketlerinden ilk 5 tanesi\n",
    "    print(link.get(\"href\"))"
   ]
  },
  {
   "cell_type": "code",
   "execution_count": 52,
   "id": "5dcf9071-f767-4337-9215-1f4a0bcdc03b",
   "metadata": {},
   "outputs": [
    {
     "name": "stdout",
     "output_type": "stream",
     "text": [
      "Make Text Smaller\n",
      "Make Text Larger\n",
      "Reset any font size changes I have made\n",
      "None\n",
      "None\n"
     ]
    }
   ],
   "source": [
    "#örn:\n",
    "arananListeler = soup.find_all(name=\"li\", class_=\"tier-2\", limit=5)\n",
    "arananListeler = soup.find_all(name=\"li\", attrs={\"class\":\"tier-2\"}, limit=5)\n",
    "\n",
    "#\n",
    "for l in arananListeler:\n",
    "    print(l.a.get(\"title\"))"
   ]
  },
  {
   "cell_type": "code",
   "execution_count": null,
   "id": "996f262f-0cf9-456f-98ce-fddf08f1e2dd",
   "metadata": {},
   "outputs": [],
   "source": [
    "#soru:\n",
    "#linkteki html tablodaki verileri okuyalım.\n",
    "#table, tr, th, td etiketleri mevcut.\n",
    "#https://www.w3schools.com/html/html_tables.asp"
   ]
  },
  {
   "cell_type": "code",
   "execution_count": 53,
   "id": "d73550d4-459e-47bd-9220-0cc2b87d6d3c",
   "metadata": {},
   "outputs": [],
   "source": [
    "#soru2:\n",
    "#son depremleri çekelim.\n",
    "#https://www.w3schools.com/html/html_tables.asp"
   ]
  },
  {
   "cell_type": "code",
   "execution_count": 184,
   "id": "5f304f48-7a2e-4cca-a321-abad0e258da5",
   "metadata": {},
   "outputs": [],
   "source": [
    "koeri_html = urlopen(\"http://www.koeri.boun.edu.tr/scripts/lst6.asp\").read().decode(\"windows-1254\")\n",
    "#print(koeri.info())\n",
    "koeri_soup = BeautifulSoup(koeri_html, \"html.parser\")"
   ]
  },
  {
   "cell_type": "code",
   "execution_count": 185,
   "id": "0785b896-f78f-4e11-a948-975ed8724168",
   "metadata": {},
   "outputs": [],
   "source": [
    "depremler_metin = koeri_soup.pre.string[str.find(pre_metin,\"Tarih\"):]\n",
    "#print(depremler_metin)"
   ]
  },
  {
   "cell_type": "code",
   "execution_count": 186,
   "id": "2608ca21-9e76-4586-a7c0-f1cfdda93987",
   "metadata": {},
   "outputs": [
    {
     "data": {
      "text/html": [
       "<div>\n",
       "<style scoped>\n",
       "    .dataframe tbody tr th:only-of-type {\n",
       "        vertical-align: middle;\n",
       "    }\n",
       "\n",
       "    .dataframe tbody tr th {\n",
       "        vertical-align: top;\n",
       "    }\n",
       "\n",
       "    .dataframe thead th {\n",
       "        text-align: right;\n",
       "    }\n",
       "</style>\n",
       "<table border=\"1\" class=\"dataframe\">\n",
       "  <thead>\n",
       "    <tr style=\"text-align: right;\">\n",
       "      <th></th>\n",
       "      <th>Tarih</th>\n",
       "      <th>Saat</th>\n",
       "      <th>Enlem(N)</th>\n",
       "      <th>Boylam(E)</th>\n",
       "      <th>Derinlik(km)</th>\n",
       "      <th>MD</th>\n",
       "      <th>ML</th>\n",
       "      <th>Mw</th>\n",
       "      <th>Yer</th>\n",
       "      <th>Çözüm</th>\n",
       "      <th>Niteliği</th>\n",
       "      <th>col_0</th>\n",
       "      <th>col_1</th>\n",
       "      <th>col_2</th>\n",
       "      <th>col_3</th>\n",
       "    </tr>\n",
       "  </thead>\n",
       "  <tbody>\n",
       "    <tr>\n",
       "      <th>0</th>\n",
       "      <td>2022.03.12</td>\n",
       "      <td>10:34:36</td>\n",
       "      <td>37.9917</td>\n",
       "      <td>29.0947</td>\n",
       "      <td>6.7</td>\n",
       "      <td>-.-</td>\n",
       "      <td>1.8</td>\n",
       "      <td>-.-</td>\n",
       "      <td>HAYTABEY-(DENIZLI)</td>\n",
       "      <td>İlksel</td>\n",
       "      <td>None</td>\n",
       "      <td>None</td>\n",
       "      <td>None</td>\n",
       "      <td>None</td>\n",
       "      <td>None</td>\n",
       "    </tr>\n",
       "    <tr>\n",
       "      <th>1</th>\n",
       "      <td>2022.03.12</td>\n",
       "      <td>08:52:48</td>\n",
       "      <td>36.9038</td>\n",
       "      <td>27.5663</td>\n",
       "      <td>4.4</td>\n",
       "      <td>-.-</td>\n",
       "      <td>1.4</td>\n",
       "      <td>-.-</td>\n",
       "      <td>GOKOVA</td>\n",
       "      <td>KORFEZI</td>\n",
       "      <td>(AKDENIZ)</td>\n",
       "      <td>İlksel</td>\n",
       "      <td>None</td>\n",
       "      <td>None</td>\n",
       "      <td>None</td>\n",
       "    </tr>\n",
       "  </tbody>\n",
       "</table>\n",
       "</div>"
      ],
      "text/plain": [
       "        Tarih      Saat Enlem(N) Boylam(E) Derinlik(km)   MD   ML   Mw  \\\n",
       "0  2022.03.12  10:34:36  37.9917   29.0947          6.7  -.-  1.8  -.-   \n",
       "1  2022.03.12  08:52:48  36.9038   27.5663          4.4  -.-  1.4  -.-   \n",
       "\n",
       "                  Yer    Çözüm   Niteliği   col_0 col_1 col_2 col_3  \n",
       "0  HAYTABEY-(DENIZLI)   İlksel       None    None  None  None  None  \n",
       "1              GOKOVA  KORFEZI  (AKDENIZ)  İlksel  None  None  None  "
      ]
     },
     "execution_count": 186,
     "metadata": {},
     "output_type": "execute_result"
    }
   ],
   "source": [
    "import re\n",
    "import pandas as pd\n",
    "\n",
    "lst_depremler = [re.split(\"\\s+\",satir) for satir in depremler_metin.splitlines() if \"--\" not in satir]\n",
    "#lst_depremler\n",
    "\n",
    "df_depremler = pd.DataFrame(data=lst_depremler[1:], columns=[*lst_depremler[0],*[f\"col_{i}\" for i in range(4)]])\n",
    "df_depremler.head(2)"
   ]
  },
  {
   "cell_type": "code",
   "execution_count": 187,
   "id": "a3207983-4641-4fb9-a27a-85ca66d741a7",
   "metadata": {},
   "outputs": [
    {
     "data": {
      "text/html": [
       "<div>\n",
       "<style scoped>\n",
       "    .dataframe tbody tr th:only-of-type {\n",
       "        vertical-align: middle;\n",
       "    }\n",
       "\n",
       "    .dataframe tbody tr th {\n",
       "        vertical-align: top;\n",
       "    }\n",
       "\n",
       "    .dataframe thead th {\n",
       "        text-align: right;\n",
       "    }\n",
       "</style>\n",
       "<table border=\"1\" class=\"dataframe\">\n",
       "  <thead>\n",
       "    <tr style=\"text-align: right;\">\n",
       "      <th></th>\n",
       "      <th>Tarih</th>\n",
       "      <th>Saat</th>\n",
       "      <th>Enlem(N)</th>\n",
       "      <th>Boylam(E)</th>\n",
       "      <th>Derinlik(km)</th>\n",
       "      <th>MD</th>\n",
       "      <th>ML</th>\n",
       "      <th>Mw</th>\n",
       "      <th>Yer</th>\n",
       "      <th>Çözüm</th>\n",
       "      <th>Niteliği</th>\n",
       "      <th>col_0</th>\n",
       "      <th>col_1</th>\n",
       "      <th>col_2</th>\n",
       "      <th>col_3</th>\n",
       "    </tr>\n",
       "  </thead>\n",
       "  <tbody>\n",
       "    <tr>\n",
       "      <th>207</th>\n",
       "      <td>2022.03.07</td>\n",
       "      <td>06:53:16</td>\n",
       "      <td>40.6025</td>\n",
       "      <td>27.5015</td>\n",
       "      <td>17.8</td>\n",
       "      <td>-.-</td>\n",
       "      <td>2.0</td>\n",
       "      <td>-.-</td>\n",
       "      <td>MARMARA</td>\n",
       "      <td>(BALIKESIR)</td>\n",
       "      <td>İlksel</td>\n",
       "      <td>None</td>\n",
       "      <td>None</td>\n",
       "      <td>None</td>\n",
       "      <td>None</td>\n",
       "    </tr>\n",
       "  </tbody>\n",
       "</table>\n",
       "</div>"
      ],
      "text/plain": [
       "          Tarih      Saat Enlem(N) Boylam(E) Derinlik(km)   MD   ML   Mw  \\\n",
       "207  2022.03.07  06:53:16  40.6025   27.5015         17.8  -.-  2.0  -.-   \n",
       "\n",
       "         Yer        Çözüm Niteliği col_0 col_1 col_2 col_3  \n",
       "207  MARMARA  (BALIKESIR)   İlksel  None  None  None  None  "
      ]
     },
     "execution_count": 187,
     "metadata": {},
     "output_type": "execute_result"
    }
   ],
   "source": [
    "df_depremler.query(\"Yer == 'MARMARA'\")"
   ]
  },
  {
   "cell_type": "code",
   "execution_count": 188,
   "id": "c68871cb-d15e-4820-aaaf-4ccc755cca63",
   "metadata": {},
   "outputs": [
    {
     "name": "stdout",
     "output_type": "stream",
     "text": [
      "<class 'pandas.core.frame.DataFrame'>\n",
      "RangeIndex: 501 entries, 0 to 500\n",
      "Data columns (total 15 columns):\n",
      " #   Column        Non-Null Count  Dtype \n",
      "---  ------        --------------  ----- \n",
      " 0   Tarih         501 non-null    object\n",
      " 1   Saat          500 non-null    object\n",
      " 2   Enlem(N)      500 non-null    object\n",
      " 3   Boylam(E)     500 non-null    object\n",
      " 4   Derinlik(km)  500 non-null    object\n",
      " 5   MD            500 non-null    object\n",
      " 6   ML            500 non-null    object\n",
      " 7   Mw            500 non-null    object\n",
      " 8   Yer           500 non-null    object\n",
      " 9   Çözüm         500 non-null    object\n",
      " 10  Niteliği      409 non-null    object\n",
      " 11  col_0         120 non-null    object\n",
      " 12  col_1         57 non-null     object\n",
      " 13  col_2         3 non-null      object\n",
      " 14  col_3         2 non-null      object\n",
      "dtypes: object(15)\n",
      "memory usage: 58.8+ KB\n"
     ]
    }
   ],
   "source": [
    "df_depremler.info()"
   ]
  },
  {
   "cell_type": "code",
   "execution_count": null,
   "id": "02188645-e2ce-4a55-9232-f06b8f235532",
   "metadata": {},
   "outputs": [],
   "source": []
  }
 ],
 "metadata": {
  "kernelspec": {
   "display_name": "Python 3 (ipykernel)",
   "language": "python",
   "name": "python3"
  },
  "language_info": {
   "codemirror_mode": {
    "name": "ipython",
    "version": 3
   },
   "file_extension": ".py",
   "mimetype": "text/x-python",
   "name": "python",
   "nbconvert_exporter": "python",
   "pygments_lexer": "ipython3",
   "version": "3.8.12"
  }
 },
 "nbformat": 4,
 "nbformat_minor": 5
}
