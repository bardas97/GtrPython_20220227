{
 "cells": [
  {
   "attachments": {
    "206a421d-7c94-4f60-a2a0-ea59e54cf35d.png": {
     "image/png": "[encoded data removed]"
    }
   },
   "cell_type": "markdown",
   "id": "8144a570-b7c5-489f-89c6-9396af4a83bf",
   "metadata": {},
   "source": [
    "### Pandas ile Veri Kaynakların Bağlanma\n",
    "* read_ ile başlayanlar okuyoruz. to_ ile başyanlarla yazıyoruz.\n",
    "\n",
    "![Pandas_IO.png](attachment:206a421d-7c94-4f60-a2a0-ea59e54cf35d.png)"
   ]
  },
  {
   "cell_type": "code",
   "execution_count": 1,
   "id": "8a399bd4-e4a4-4926-8dce-3e394703ba0c",
   "metadata": {},
   "outputs": [],
   "source": [
    "# Yas kolonundan önce boşluk var.\n",
    "# Veli öncesi bir satır boş geçilmiz.\n",
    "# Tarih kolonu var.\n",
    "# ondlaık ayracı , olan bir değer var\n",
    "# boş geçilmiş alanlar var\n",
    "# boş geçilmiş alanar için Yok ifadesi kullanışmış.\n",
    "\n",
    "metin = '''\n",
    "Ad|Soyad| Yas|Tarih|Kilo\n",
    "Abdullah|Kise|80|2021-09-24|70,2\n",
    "Ali|Uçan|55|2021-09-23|\n",
    "\n",
    "Veli|Kaçan|30|Yok|Yok\n",
    "'''"
   ]
  },
  {
   "cell_type": "code",
   "execution_count": 3,
   "id": "64b5d425-fe3b-41b7-9002-e4ed970c5507",
   "metadata": {},
   "outputs": [
    {
     "name": "stdout",
     "output_type": "stream",
     "text": [
      "\n",
      "Ad|Soyad| Yas|Tarih|Kilo\n",
      "Abdullah|Kise|80|2021-09-24|70,2\n",
      "Ali|Uçan|55|2021-09-23|\n",
      "\n",
      "Veli|Kaçan|30|Yok|Yok\n",
      "\n"
     ]
    }
   ],
   "source": [
    "import io\n",
    "print(io.StringIO(metin).read()) #metinleri bufferlıyor(memory stream)"
   ]
  },
  {
   "cell_type": "markdown",
   "id": "cb562f8c-9697-4b0c-b081-0880e2387873",
   "metadata": {},
   "source": [
    "### Pandas ile CSV okuma"
   ]
  },
  {
   "cell_type": "code",
   "execution_count": 4,
   "id": "b58cdbc6-ec8d-4166-98de-95f21bfd4782",
   "metadata": {},
   "outputs": [],
   "source": [
    "import numpy as np\n",
    "import pandas as pd"
   ]
  },
  {
   "cell_type": "code",
   "execution_count": 7,
   "id": "c0d30ac8-c800-46e5-baef-42968aa6c169",
   "metadata": {},
   "outputs": [
    {
     "data": {
      "text/html": [
       "<div>\n",
       "<style scoped>\n",
       "    .dataframe tbody tr th:only-of-type {\n",
       "        vertical-align: middle;\n",
       "    }\n",
       "\n",
       "    .dataframe tbody tr th {\n",
       "        vertical-align: top;\n",
       "    }\n",
       "\n",
       "    .dataframe thead th {\n",
       "        text-align: right;\n",
       "    }\n",
       "</style>\n",
       "<table border=\"1\" class=\"dataframe\">\n",
       "  <thead>\n",
       "    <tr style=\"text-align: right;\">\n",
       "      <th></th>\n",
       "      <th>Ad</th>\n",
       "      <th>Soyad</th>\n",
       "      <th>Yas</th>\n",
       "      <th>Tarih</th>\n",
       "      <th>Kilo</th>\n",
       "    </tr>\n",
       "  </thead>\n",
       "  <tbody>\n",
       "    <tr>\n",
       "      <th>0</th>\n",
       "      <td>Abdullah</td>\n",
       "      <td>Kise</td>\n",
       "      <td>80</td>\n",
       "      <td>2021-09-24</td>\n",
       "      <td>70,2</td>\n",
       "    </tr>\n",
       "    <tr>\n",
       "      <th>1</th>\n",
       "      <td>Ali</td>\n",
       "      <td>Uçan</td>\n",
       "      <td>55</td>\n",
       "      <td>2021-09-23</td>\n",
       "      <td>NaN</td>\n",
       "    </tr>\n",
       "    <tr>\n",
       "      <th>2</th>\n",
       "      <td>Veli</td>\n",
       "      <td>Kaçan</td>\n",
       "      <td>30</td>\n",
       "      <td>Yok</td>\n",
       "      <td>Yok</td>\n",
       "    </tr>\n",
       "  </tbody>\n",
       "</table>\n",
       "</div>"
      ],
      "text/plain": [
       "         Ad  Soyad   Yas       Tarih  Kilo\n",
       "0  Abdullah   Kise    80  2021-09-24  70,2\n",
       "1       Ali   Uçan    55  2021-09-23   NaN\n",
       "2      Veli  Kaçan    30         Yok   Yok"
      ]
     },
     "execution_count": 7,
     "metadata": {},
     "output_type": "execute_result"
    }
   ],
   "source": [
    "pd.read_csv(io.StringIO(metin),\n",
    "           #delimiter=\"|\"\n",
    "            sep=\"|\"\n",
    "           )"
   ]
  },
  {
   "cell_type": "code",
   "execution_count": 28,
   "id": "7520b045-0bdf-4853-98c2-f791bfaef7bb",
   "metadata": {},
   "outputs": [
    {
     "name": "stdout",
     "output_type": "stream",
     "text": [
      "<class 'pandas.core.frame.DataFrame'>\n",
      "Index: 3 entries, Abdullah to Veli\n",
      "Data columns (total 4 columns):\n",
      " #   Column  Non-Null Count  Dtype         \n",
      "---  ------  --------------  -----         \n",
      " 0   Soyad   3 non-null      object        \n",
      " 1    Yas    3 non-null      int8          \n",
      " 2   Tarih   2 non-null      datetime64[ns]\n",
      " 3   Kilo    1 non-null      float16       \n",
      "dtypes: datetime64[ns](1), float16(1), int8(1), object(1)\n",
      "memory usage: 81.0+ bytes\n"
     ]
    }
   ],
   "source": [
    "df = pd.read_csv(io.StringIO(metin), delimiter=\"|\",\n",
    "                #usecols=[\"Ad\",\"Soyad\"], #istediğimiz kolonlar\n",
    "                 \n",
    "                 #---\n",
    "                 #usecols=[\"Ad\",\"Yas\"],\n",
    "                 #skipinitialspace=True, #kolon adlarındaki boşluklar görmezden gelinir.\n",
    "                 #----\n",
    "                 \n",
    "                 #skiprows=1,\n",
    "                 #skipfooter=1\n",
    "                 \n",
    "                 #skip_blank_lines=False,\n",
    "                 na_values={\"Yok\"}, #Yok ifadesi None olacak.\n",
    "                 decimal = \",\",\n",
    "                 index_col=[\"Ad\"], #index etiketi\n",
    "                 parse_dates=[\"Tarih\"],\n",
    "                 dtype={\n",
    "                            \"Ad\":str,\n",
    "                            \"Soyad\":str,\n",
    "                            \" Yas\":np.int8,\n",
    "                            \"Kilo\":np.float16                     \n",
    "                         }\n",
    "                )\n",
    "\n",
    "#---\n",
    "df.info()"
   ]
  },
  {
   "cell_type": "markdown",
   "id": "e7c806ae-fcb4-4fe7-bb6c-3e249c835b85",
   "metadata": {},
   "source": [
    "#### to_csv ile yazalım"
   ]
  },
  {
   "cell_type": "code",
   "execution_count": 32,
   "id": "f7815cf7-7dec-4f6e-823e-ed6b0b50010a",
   "metadata": {},
   "outputs": [],
   "source": [
    "import os\n",
    "\n",
    "os.makedirs(\"databases\", exist_ok=True) #klasorı oluşturacak"
   ]
  },
  {
   "cell_type": "code",
   "execution_count": 33,
   "id": "a67da048-9e6b-40e1-8871-93927716cf60",
   "metadata": {},
   "outputs": [],
   "source": [
    "df.to_csv(\"databases/kisiler.csv\")"
   ]
  },
  {
   "cell_type": "markdown",
   "id": "a19f4abe-9bc5-491e-b7f8-fbe0dc0846e5",
   "metadata": {},
   "source": [
    "#### converter\n",
    "* belirtilen kolonda verilen fonksiyonu çalıştırır. (applymap, appyle, map)\n",
    "* veri temizliği için kullanılabilir. (okurken temizlik yapabiliriz.)"
   ]
  },
  {
   "cell_type": "code",
   "execution_count": 35,
   "id": "581e13ca-2e43-4d52-a2a9-c22664f4f1e4",
   "metadata": {},
   "outputs": [
    {
     "data": {
      "text/html": [
       "<div>\n",
       "<style scoped>\n",
       "    .dataframe tbody tr th:only-of-type {\n",
       "        vertical-align: middle;\n",
       "    }\n",
       "\n",
       "    .dataframe tbody tr th {\n",
       "        vertical-align: top;\n",
       "    }\n",
       "\n",
       "    .dataframe thead th {\n",
       "        text-align: right;\n",
       "    }\n",
       "</style>\n",
       "<table border=\"1\" class=\"dataframe\">\n",
       "  <thead>\n",
       "    <tr style=\"text-align: right;\">\n",
       "      <th></th>\n",
       "      <th>Ad</th>\n",
       "      <th>Soyad</th>\n",
       "      <th>Yas</th>\n",
       "      <th>Tarih</th>\n",
       "      <th>Kilo</th>\n",
       "    </tr>\n",
       "  </thead>\n",
       "  <tbody>\n",
       "    <tr>\n",
       "      <th>0</th>\n",
       "      <td>Abdullah</td>\n",
       "      <td>KISE</td>\n",
       "      <td>80</td>\n",
       "      <td>2021-09-24</td>\n",
       "      <td>70.2</td>\n",
       "    </tr>\n",
       "    <tr>\n",
       "      <th>1</th>\n",
       "      <td>Ali</td>\n",
       "      <td>UÇAN</td>\n",
       "      <td>55</td>\n",
       "      <td>2021-09-23</td>\n",
       "      <td>NaN</td>\n",
       "    </tr>\n",
       "    <tr>\n",
       "      <th>2</th>\n",
       "      <td>Veli</td>\n",
       "      <td>KAÇAN</td>\n",
       "      <td>30</td>\n",
       "      <td>NaN</td>\n",
       "      <td>NaN</td>\n",
       "    </tr>\n",
       "  </tbody>\n",
       "</table>\n",
       "</div>"
      ],
      "text/plain": [
       "         Ad  Soyad   Yas       Tarih  Kilo\n",
       "0  Abdullah   KISE    80  2021-09-24  70.2\n",
       "1       Ali   UÇAN    55  2021-09-23   NaN\n",
       "2      Veli  KAÇAN    30         NaN   NaN"
      ]
     },
     "execution_count": 35,
     "metadata": {},
     "output_type": "execute_result"
    }
   ],
   "source": [
    "pd.read_csv(\"databases/kisiler.csv\",\n",
    "           converters={\"Soyad\":str.upper} #soyad kolonundaki değerl str.upper fonkisyonuna parametre olarak gelir.\n",
    "           )"
   ]
  },
  {
   "cell_type": "code",
   "execution_count": 40,
   "id": "0cd6136c-b966-44ce-b2c8-e2946d40b4b7",
   "metadata": {},
   "outputs": [
    {
     "data": {
      "text/html": [
       "<div>\n",
       "<style scoped>\n",
       "    .dataframe tbody tr th:only-of-type {\n",
       "        vertical-align: middle;\n",
       "    }\n",
       "\n",
       "    .dataframe tbody tr th {\n",
       "        vertical-align: top;\n",
       "    }\n",
       "\n",
       "    .dataframe thead th {\n",
       "        text-align: right;\n",
       "    }\n",
       "</style>\n",
       "<table border=\"1\" class=\"dataframe\">\n",
       "  <thead>\n",
       "    <tr style=\"text-align: right;\">\n",
       "      <th></th>\n",
       "      <th>Ad</th>\n",
       "      <th>Soyad</th>\n",
       "      <th>Yas</th>\n",
       "      <th>Tarih</th>\n",
       "      <th>Kilo</th>\n",
       "    </tr>\n",
       "  </thead>\n",
       "  <tbody>\n",
       "    <tr>\n",
       "      <th>0</th>\n",
       "      <td>Abdullah</td>\n",
       "      <td>Kise</td>\n",
       "      <td>80</td>\n",
       "      <td>2021-09-24</td>\n",
       "      <td>70.2</td>\n",
       "    </tr>\n",
       "    <tr>\n",
       "      <th>1</th>\n",
       "      <td>Ali</td>\n",
       "      <td>Uçanlar</td>\n",
       "      <td>55</td>\n",
       "      <td>2021-09-23</td>\n",
       "      <td>NaN</td>\n",
       "    </tr>\n",
       "    <tr>\n",
       "      <th>2</th>\n",
       "      <td>Veli</td>\n",
       "      <td>Kaçanoğulları</td>\n",
       "      <td>30</td>\n",
       "      <td>NaN</td>\n",
       "      <td>NaN</td>\n",
       "    </tr>\n",
       "  </tbody>\n",
       "</table>\n",
       "</div>"
      ],
      "text/plain": [
       "         Ad          Soyad   Yas       Tarih  Kilo\n",
       "0  Abdullah           Kise    80  2021-09-24  70.2\n",
       "1       Ali        Uçanlar    55  2021-09-23   NaN\n",
       "2      Veli  Kaçanoğulları    30         NaN   NaN"
      ]
     },
     "execution_count": 40,
     "metadata": {},
     "output_type": "execute_result"
    }
   ],
   "source": [
    "#Soru:\n",
    "#soyadları düzeltelim. \"Uçan\":\"Uçanlar\", \"Kaçan\":\"Kaçanoğulları\"\n",
    "temizlikKurali = {\"Uçan\":\"Uçanlar\", \"Kaçan\":\"Kaçanoğulları\"}\n",
    "\n",
    "pd.read_csv(\"databases/kisiler.csv\",\n",
    "           converters = {\"Soyad\":lambda v: temizlikKurali[v] if temizlikKurali.get(v) else v}\n",
    "           )"
   ]
  },
  {
   "cell_type": "markdown",
   "id": "eaea75d5-0f7b-4b53-9ffc-3c61b53b70c7",
   "metadata": {},
   "source": [
    "### Excel'e bağlanmak"
   ]
  },
  {
   "cell_type": "code",
   "execution_count": 48,
   "id": "b530e26e-9092-49aa-8d2f-6cb23334b8d2",
   "metadata": {},
   "outputs": [
    {
     "data": {
      "text/plain": [
       "{'kisiler':                Id        Ad  Soyad  Yas      Tarih  Kilo\n",
       " 0               1  Abdullah   Kise   15 2020-12-31  70.2\n",
       " 1               2       Ali   Uçan   22 2020-11-11   NaN\n",
       " 2               3      Veli  Kaçan   55        NaT   NaN,\n",
       " 'Boş': Empty DataFrame\n",
       " Columns: []\n",
       " Index: []}"
      ]
     },
     "execution_count": 48,
     "metadata": {},
     "output_type": "execute_result"
    }
   ],
   "source": [
    "df_dict = pd.read_excel(\"databases/mykisiler.xlsx\",\n",
    "             sheet_name=None #None ile tüm sayfalar okunur. sayfa adı verilebilir.\n",
    "             ) \n",
    "\n",
    "df_dict"
   ]
  },
  {
   "cell_type": "code",
   "execution_count": 49,
   "id": "c007dd4a-a93d-4593-a7c0-4b62467f2d32",
   "metadata": {},
   "outputs": [
    {
     "data": {
      "text/html": [
       "<div>\n",
       "<style scoped>\n",
       "    .dataframe tbody tr th:only-of-type {\n",
       "        vertical-align: middle;\n",
       "    }\n",
       "\n",
       "    .dataframe tbody tr th {\n",
       "        vertical-align: top;\n",
       "    }\n",
       "\n",
       "    .dataframe thead th {\n",
       "        text-align: right;\n",
       "    }\n",
       "</style>\n",
       "<table border=\"1\" class=\"dataframe\">\n",
       "  <thead>\n",
       "    <tr style=\"text-align: right;\">\n",
       "      <th></th>\n",
       "      <th>Id</th>\n",
       "      <th>Ad</th>\n",
       "      <th>Soyad</th>\n",
       "      <th>Yas</th>\n",
       "      <th>Tarih</th>\n",
       "      <th>Kilo</th>\n",
       "    </tr>\n",
       "  </thead>\n",
       "  <tbody>\n",
       "    <tr>\n",
       "      <th>0</th>\n",
       "      <td>1</td>\n",
       "      <td>Abdullah</td>\n",
       "      <td>Kise</td>\n",
       "      <td>15</td>\n",
       "      <td>2020-12-31</td>\n",
       "      <td>70.2</td>\n",
       "    </tr>\n",
       "    <tr>\n",
       "      <th>1</th>\n",
       "      <td>2</td>\n",
       "      <td>Ali</td>\n",
       "      <td>Uçan</td>\n",
       "      <td>22</td>\n",
       "      <td>2020-11-11</td>\n",
       "      <td>NaN</td>\n",
       "    </tr>\n",
       "    <tr>\n",
       "      <th>2</th>\n",
       "      <td>3</td>\n",
       "      <td>Veli</td>\n",
       "      <td>Kaçan</td>\n",
       "      <td>55</td>\n",
       "      <td>NaT</td>\n",
       "      <td>NaN</td>\n",
       "    </tr>\n",
       "  </tbody>\n",
       "</table>\n",
       "</div>"
      ],
      "text/plain": [
       "               Id        Ad  Soyad  Yas      Tarih  Kilo\n",
       "0               1  Abdullah   Kise   15 2020-12-31  70.2\n",
       "1               2       Ali   Uçan   22 2020-11-11   NaN\n",
       "2               3      Veli  Kaçan   55        NaT   NaN"
      ]
     },
     "execution_count": 49,
     "metadata": {},
     "output_type": "execute_result"
    }
   ],
   "source": [
    "df_dict[\"kisiler\"]"
   ]
  },
  {
   "cell_type": "code",
   "execution_count": 51,
   "id": "236fe2cb-51a3-4a86-b7ca-31f577a4f7ea",
   "metadata": {},
   "outputs": [
    {
     "data": {
      "text/html": [
       "<div>\n",
       "<style scoped>\n",
       "    .dataframe tbody tr th:only-of-type {\n",
       "        vertical-align: middle;\n",
       "    }\n",
       "\n",
       "    .dataframe tbody tr th {\n",
       "        vertical-align: top;\n",
       "    }\n",
       "\n",
       "    .dataframe thead th {\n",
       "        text-align: right;\n",
       "    }\n",
       "</style>\n",
       "<table border=\"1\" class=\"dataframe\">\n",
       "  <thead>\n",
       "    <tr style=\"text-align: right;\">\n",
       "      <th></th>\n",
       "    </tr>\n",
       "  </thead>\n",
       "  <tbody>\n",
       "  </tbody>\n",
       "</table>\n",
       "</div>"
      ],
      "text/plain": [
       "Empty DataFrame\n",
       "Columns: []\n",
       "Index: []"
      ]
     },
     "execution_count": 51,
     "metadata": {},
     "output_type": "execute_result"
    }
   ],
   "source": [
    "df_dict[\"Boş\"]"
   ]
  },
  {
   "cell_type": "code",
   "execution_count": null,
   "id": "9a3c71c8-524e-45e4-a6e1-052c20a20fb1",
   "metadata": {},
   "outputs": [],
   "source": [
    "#https://archive.ics.uci.edu/ml/machine-learning-databases/auto-mpg/auto-mpg.data"
   ]
  }
 ],
 "metadata": {
  "kernelspec": {
   "display_name": "Python 3 (ipykernel)",
   "language": "python",
   "name": "python3"
  },
  "language_info": {
   "codemirror_mode": {
    "name": "ipython",
    "version": 3
   },
   "file_extension": ".py",
   "mimetype": "text/x-python",
   "name": "python",
   "nbconvert_exporter": "python",
   "pygments_lexer": "ipython3",
   "version": "3.8.12"
  }
 },
 "nbformat": 4,
 "nbformat_minor": 5
}
