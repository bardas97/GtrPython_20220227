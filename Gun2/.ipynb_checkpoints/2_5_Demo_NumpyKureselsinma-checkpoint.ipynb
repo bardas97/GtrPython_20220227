{
 "cells": [
  {
   "cell_type": "markdown",
   "id": "5dbabef7-b242-490f-9bea-70a6ce53a936",
   "metadata": {},
   "source": [
    "## Numpy ile Kuresel Isınma"
   ]
  },
  {
   "cell_type": "code",
   "execution_count": 1,
   "id": "43624c14-85db-4b9a-b533-3dd1ccec85f3",
   "metadata": {},
   "outputs": [],
   "source": [
    "import numpy as np\n",
    "import matplotlib.pyplot as plt"
   ]
  },
  {
   "cell_type": "markdown",
   "id": "00705706-0f23-401d-b304-2ffc6d863f70",
   "metadata": {},
   "source": [
    "### verileri okuyalım"
   ]
  },
  {
   "cell_type": "code",
   "execution_count": 16,
   "id": "594254e8-f4d1-447d-b7a1-320a69f3bd18",
   "metadata": {},
   "outputs": [
    {
     "data": {
      "text/plain": [
       "array([1951, 1952, 1953, 1954, 1955, 1956, 1957, 1958, 1959, 1960, 1961,\n",
       "       1962, 1963, 1964, 1965, 1966, 1967, 1968, 1969, 1970, 1971, 1972,\n",
       "       1973, 1974, 1975, 1976, 1977, 1978, 1979, 1980])"
      ]
     },
     "execution_count": 16,
     "metadata": {},
     "output_type": "execute_result"
    }
   ],
   "source": [
    "#np.loadtxt(\"databases/1951-1980.csv\",delimiter=\",\").shape #(30, 2)\n",
    "years, means = np.loadtxt(\"databases/1951-1980.csv\",delimiter=\",\", unpack=True) #unpacking için unpack=True\n",
    "\n",
    "means.dtype\n",
    "years.dtype #dtype('float64')\n",
    "\n",
    "#\n",
    "years=years.astype(int) #int tipine çevirdik\n",
    "years\n",
    "\n",
    "#\n",
    "#list(zip(years, means))"
   ]
  },
  {
   "cell_type": "markdown",
   "id": "0fc8f9f1-e66d-4959-a448-5de4c5b794c9",
   "metadata": {},
   "source": [
    "### Veriyi Görselleştirelim"
   ]
  },
  {
   "cell_type": "code",
   "execution_count": 24,
   "id": "352865e9-0aaa-480c-a063-dd8c6a7516a9",
   "metadata": {},
   "outputs": [
    {
     "data": {
      "image/png": "[encoded data removed]",
      "text/plain": [
       "<Figure size 432x288 with 1 Axes>"
      ]
     },
     "metadata": {
      "needs_background": "light"
     },
     "output_type": "display_data"
    }
   ],
   "source": [
    "plt.scatter(years, means)\n",
    "\n",
    "plt.title(\"Yıllara göre Ortalama Sıcaklık Farkı\", fontsize=16, color=\"Red\")\n",
    "plt.xlabel(\"Yıllar\", fontsize=12)\n",
    "plt.ylabel(\"Ortalama\", fontsize=12)\n",
    "\n",
    "\n",
    "plt.show() #komut satırında kullanmak gerekli"
   ]
  },
  {
   "cell_type": "markdown",
   "id": "579d3927-780f-49e5-b88c-6e0f6cff8c24",
   "metadata": {},
   "source": [
    "### numpy ile linear regression"
   ]
  },
  {
   "cell_type": "code",
   "execution_count": 27,
   "id": "28648317-d547-49c4-b09e-423260332a16",
   "metadata": {},
   "outputs": [
    {
     "name": "stdout",
     "output_type": "stream",
     "text": [
      "y = 0.007279199110122247x + (-14.309265850945273)\n"
     ]
    }
   ],
   "source": [
    "#y = mx + b\n",
    "m,b = np.polyfit(years, means, deg=1)\n",
    "\n",
    "print(f\"y = {m}x + ({b})\")"
   ]
  },
  {
   "cell_type": "markdown",
   "id": "76cc3896-e540-4fe6-88f7-2554bb6eb2c6",
   "metadata": {},
   "source": [
    "#### Linear regression çizgisini çizelim"
   ]
  },
  {
   "cell_type": "code",
   "execution_count": 28,
   "id": "a46b2dd5-995b-4044-9ffe-473d87f987b5",
   "metadata": {},
   "outputs": [],
   "source": [
    "f = lambda x: m*x + b"
   ]
  },
  {
   "cell_type": "code",
   "execution_count": 31,
   "id": "968ceebd-dab0-4ca6-aa5f-223796ac12e2",
   "metadata": {},
   "outputs": [
    {
     "data": {
      "image/png": "[encoded data removed]",
      "text/plain": [
       "<Figure size 432x288 with 1 Axes>"
      ]
     },
     "metadata": {
      "needs_background": "light"
     },
     "output_type": "display_data"
    }
   ],
   "source": [
    "plt.plot(years, f(years), color=\"red\")\n",
    "\n",
    "plt.scatter(years, means)\n",
    "\n",
    "plt.title(\"Yıllara göre Ortalama Sıcaklık Farkı\", fontsize=16, color=\"Red\")\n",
    "plt.xlabel(\"Yıllar\", fontsize=12)\n",
    "plt.ylabel(\"Ortalama\", fontsize=12)\n",
    "\n",
    "\n",
    "plt.show() #komut satırında kullanmak gerekli"
   ]
  },
  {
   "cell_type": "code",
   "execution_count": 34,
   "id": "e8399da6-6c1b-4066-9ef6-5d7a06c070c9",
   "metadata": {},
   "outputs": [
    {
     "data": {
      "text/plain": [
       "0.5766963292547231"
      ]
     },
     "execution_count": 34,
     "metadata": {},
     "output_type": "execute_result"
    }
   ],
   "source": [
    "f(2045)"
   ]
  },
  {
   "cell_type": "markdown",
   "id": "44697db2-dfbb-4023-afc2-5e964def03bd",
   "metadata": {},
   "source": [
    "### Sklearn Kütüphanesi ile Linear Regression"
   ]
  },
  {
   "cell_type": "code",
   "execution_count": 35,
   "id": "d485142e-c0af-4c61-995d-fa45822a5dad",
   "metadata": {},
   "outputs": [],
   "source": [
    "from sklearn.linear_model import LinearRegression"
   ]
  },
  {
   "cell_type": "markdown",
   "id": "f3b37fd8-9fe6-4951-acc7-9e6a0cc916a8",
   "metadata": {},
   "source": [
    "#### Modelimizi eğitelim"
   ]
  },
  {
   "cell_type": "code",
   "execution_count": 42,
   "id": "7d4115e0-8cc1-43cd-a6f8-e33fa30744cd",
   "metadata": {},
   "outputs": [
    {
     "data": {
      "text/plain": [
       "2"
      ]
     },
     "execution_count": 42,
     "metadata": {},
     "output_type": "execute_result"
    }
   ],
   "source": [
    "years.ndim #1 boyutlu\n",
    "years[:,np.newaxis].ndim #2boyutlu"
   ]
  },
  {
   "cell_type": "code",
   "execution_count": 48,
   "id": "eda66222-fd45-4a24-af11-d94fa43fc6bb",
   "metadata": {},
   "outputs": [
    {
     "name": "stdout",
     "output_type": "stream",
     "text": [
      "y = 0.007279199110122357x + -14.309265850945492\n"
     ]
    }
   ],
   "source": [
    "model = LinearRegression() #algoritmayı seçtik.\n",
    "\n",
    "model.fit(years[:,np.newaxis], means) #eğitme işlemi bu satırda tamamlanır.\n",
    "\n",
    "#----\n",
    "print(f\"y = {model.coef_[0]}x + {model.intercept_}\")"
   ]
  },
  {
   "cell_type": "code",
   "execution_count": 54,
   "id": "0393d6b9-7893-407a-a68c-9ca8edf74e53",
   "metadata": {},
   "outputs": [
    {
     "data": {
      "text/plain": [
       "array([0.43111235, 0.50390434, 0.57669633])"
      ]
     },
     "execution_count": 54,
     "metadata": {},
     "output_type": "execute_result"
    }
   ],
   "source": [
    "'''\n",
    "veriler = np.array([\n",
    "                    [2025],[2035],[2045]\n",
    "                   ])\n",
    "'''\n",
    "tahminEdilecekYillar = [2025,2035,2045]\n",
    "\n",
    "tahminEdilecekYillar = np.array([tahminEdilecekYillar])[:,np.newaxis]\n",
    "#veriler.ndim #2\n",
    "\n",
    "model.predict(veriler)"
   ]
  }
 ],
 "metadata": {
  "kernelspec": {
   "display_name": "Python 3 (ipykernel)",
   "language": "python",
   "name": "python3"
  },
  "language_info": {
   "codemirror_mode": {
    "name": "ipython",
    "version": 3
   },
   "file_extension": ".py",
   "mimetype": "text/x-python",
   "name": "python",
   "nbconvert_exporter": "python",
   "pygments_lexer": "ipython3",
   "version": "3.8.12"
  }
 },
 "nbformat": 4,
 "nbformat_minor": 5
}
