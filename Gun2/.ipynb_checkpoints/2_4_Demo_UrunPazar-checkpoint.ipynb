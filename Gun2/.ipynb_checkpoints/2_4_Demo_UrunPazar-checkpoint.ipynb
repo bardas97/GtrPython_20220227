{
 "cells": [
  {
   "cell_type": "markdown",
   "id": "46f46622-58f1-450b-ad20-788e89eaa2af",
   "metadata": {},
   "source": [
    "### Ürün ve Pazar\n",
    "\n",
    "* Ali, Veli, Ayşe bazı meyve çeşitleri topluyor. Nar, Kiraz, Karpuz toplasınlar\n",
    "* İki farklı pazarda satma ihtimalleri var. Pazarların\n",
    "        * Meyvelere sırayla verilen fiyatlar (Nar, Kiraz, Karpuz)\n",
    "            * Pazar 1: 5, 3, 8 tl\n",
    "            * Pazar 2: 4, 5, 9 tl\n",
    "* Kişilerin pazarlardaki muhtemel kazançlarını inceleyelim.\n",
    "* Ürünlerin pazarlardaki muhtemel kazançlarını inceleyelim.\n",
    "* 250 tl altında kazanç olan kaç alternatif var."
   ]
  },
  {
   "cell_type": "code",
   "execution_count": 1,
   "id": "e388a045-ee8a-49f1-8b85-a1fd5590fd7d",
   "metadata": {},
   "outputs": [],
   "source": [
    "import numpy as np\n",
    "import random as rnd"
   ]
  },
  {
   "cell_type": "markdown",
   "id": "1b6d94f6-0636-4d8c-8a21-2002f4057984",
   "metadata": {},
   "source": [
    "#### Veri türelim"
   ]
  },
  {
   "cell_type": "code",
   "execution_count": 2,
   "id": "dedccbc2-3a7f-40db-932b-3524b0807537",
   "metadata": {},
   "outputs": [
    {
     "data": {
      "text/plain": [
       "{'pazar1': {'Nar': 5, 'Kiraz': 3, 'Karpuz': 8},\n",
       " 'pazar2': {'Nar': 4, 'Kiraz': 5, 'Karpuz': 9}}"
      ]
     },
     "execution_count": 2,
     "metadata": {},
     "output_type": "execute_result"
    }
   ],
   "source": [
    "pazar = {\n",
    "            \"pazar1\":{\"Nar\":5, \"Kiraz\":3, \"Karpuz\":8},\n",
    "            \"pazar2\":{\"Nar\":4, \"Kiraz\":5, \"Karpuz\":9}\n",
    "        }\n",
    "#\n",
    "pazar"
   ]
  },
  {
   "cell_type": "code",
   "execution_count": 3,
   "id": "5a65f8d3-53e6-4fb3-8be3-c131fbdbe6e2",
   "metadata": {},
   "outputs": [
    {
     "data": {
      "text/plain": [
       "{'Ali': {'Nar': 214, 'Kiraz': 153, 'Karpuz': 334},\n",
       " 'Veli': {'Nar': 106, 'Kiraz': 447, 'Karpuz': 68},\n",
       " 'Ayşe': {'Nar': 340, 'Kiraz': 218, 'Karpuz': 110}}"
      ]
     },
     "execution_count": 3,
     "metadata": {},
     "output_type": "execute_result"
    }
   ],
   "source": [
    "kisiler = [\"Ali\",\"Veli\",\"Ayşe\"]\n",
    "meyveler = [\"Nar\",\"Kiraz\",\"Karpuz\"]\n",
    "\n",
    "#\n",
    "efor = dict()\n",
    "for kisi in kisiler:\n",
    "    sepet = dict()\n",
    "    for meyve in meyveler:\n",
    "        sepet[meyve] = rnd.randint(0,500)\n",
    "    efor[kisi] = sepet\n",
    "\n",
    "#---\n",
    "efor"
   ]
  },
  {
   "cell_type": "markdown",
   "id": "f193ca16-3591-40de-a81f-3f6bc697a716",
   "metadata": {},
   "source": [
    "### Matrix formuna çevirelim"
   ]
  },
  {
   "cell_type": "markdown",
   "id": "4e64e0eb-9d9e-441a-b608-16696a21f340",
   "metadata": {},
   "source": [
    "#### Pazar"
   ]
  },
  {
   "cell_type": "code",
   "execution_count": 13,
   "id": "2fa47a10-7972-4452-9d2b-59a2b7b6139f",
   "metadata": {},
   "outputs": [
    {
     "data": {
      "text/plain": [
       "[[5, 3, 8], [4, 5, 9]]"
      ]
     },
     "execution_count": 13,
     "metadata": {},
     "output_type": "execute_result"
    }
   ],
   "source": [
    "pazarFiyatlari = [list(p.values()) for p in pazar.values()]\n",
    "pazarFiyatlari"
   ]
  },
  {
   "cell_type": "code",
   "execution_count": 15,
   "id": "c84ff4b9-1c0c-44b5-89a1-3a4a9a6d50bc",
   "metadata": {},
   "outputs": [
    {
     "data": {
      "text/plain": [
       "array([[5, 3, 8],\n",
       "       [4, 5, 9]])"
      ]
     },
     "execution_count": 15,
     "metadata": {},
     "output_type": "execute_result"
    }
   ],
   "source": [
    "array_pazar = np.vstack(pazarFiyatlari)\n",
    "array_pazar"
   ]
  },
  {
   "cell_type": "markdown",
   "id": "788d4172-9a9d-4ae3-914e-45a8f0c94b0b",
   "metadata": {},
   "source": [
    "#### Efor"
   ]
  },
  {
   "cell_type": "code",
   "execution_count": 19,
   "id": "73296049-88d3-42e2-831b-02aed50b9577",
   "metadata": {},
   "outputs": [
    {
     "data": {
      "text/plain": [
       "[[214, 153, 334], [106, 447, 68], [340, 218, 110]]"
      ]
     },
     "execution_count": 19,
     "metadata": {},
     "output_type": "execute_result"
    }
   ],
   "source": [
    "eforAdetleri = [list(e.values()) for e in efor.values()]\n",
    "eforAdetleri"
   ]
  },
  {
   "cell_type": "code",
   "execution_count": 20,
   "id": "88f05b5d-b898-4c18-b584-742ec35f9399",
   "metadata": {},
   "outputs": [
    {
     "data": {
      "text/plain": [
       "array([[214, 153, 334],\n",
       "       [106, 447,  68],\n",
       "       [340, 218, 110]])"
      ]
     },
     "execution_count": 20,
     "metadata": {},
     "output_type": "execute_result"
    }
   ],
   "source": [
    "array_efor = np.vstack(eforAdetleri)\n",
    "array_efor"
   ]
  },
  {
   "cell_type": "markdown",
   "id": "8d66492a-13b7-456c-9e99-229d900c5ec0",
   "metadata": {},
   "source": [
    "#### Kazanç Hesaplama"
   ]
  },
  {
   "cell_type": "code",
   "execution_count": 25,
   "id": "2f66fb49-f5a4-407f-9a3d-1e4d5ce93fc0",
   "metadata": {},
   "outputs": [
    {
     "data": {
      "text/plain": [
       "array([[4201, 4627],\n",
       "       [2415, 3271],\n",
       "       [3234, 3440]])"
      ]
     },
     "execution_count": 25,
     "metadata": {},
     "output_type": "execute_result"
    }
   ],
   "source": [
    "array_efor.shape #(3, 3)\n",
    "array_pazar.shape #(2, 3)\n",
    "array_pazar.T.shape #(3,2) #tranpose\n",
    "\n",
    "#dot product (3,3) * (3,2) = (3,2)\n",
    "hesaplama = array_efor.dot(array_pazar.T)\n",
    "hesaplama"
   ]
  },
  {
   "cell_type": "markdown",
   "id": "48c00daf-d42a-4c4a-b7b4-a6afddc802e5",
   "metadata": {},
   "source": [
    "##### Sonuçları dict olarak tutalım."
   ]
  },
  {
   "cell_type": "code",
   "execution_count": 36,
   "id": "e2e0fe46-c6d9-41fe-a7ba-e9040e247a29",
   "metadata": {},
   "outputs": [
    {
     "data": {
      "text/plain": [
       "{'pazar1': {'Nar': 4201, 'Kiraz': 2415, 'Karpuz': 3234},\n",
       " 'pazar2': {'Nar': 4627, 'Kiraz': 3271, 'Karpuz': 3440}}"
      ]
     },
     "execution_count": 36,
     "metadata": {},
     "output_type": "execute_result"
    }
   ],
   "source": [
    "#pazarKazanclari = dict()\n",
    "\n",
    "#pazarKazanclari[\"pazar1\"] = dict(zip(meyveler, hesaplama[:,0]))\n",
    "#pazarKazanclari[\"pazar1\"] = dict(zip(meyveler, hesaplama[:,1]))\n",
    "\n",
    "#------------------------------------------------------\n",
    "#\n",
    "pazarKazanclari = dict([ \n",
    "                        (\"pazar1\", dict(zip(meyveler, hesaplama[:,0]))),\n",
    "                        (\"pazar2\", dict(zip(meyveler, hesaplama[:,1])))\n",
    "                      ])\n",
    "\n",
    "\n",
    "pazarKazanclari"
   ]
  },
  {
   "cell_type": "code",
   "execution_count": 57,
   "id": "171047e8-871f-40e0-8b9b-8b50a11b457c",
   "metadata": {},
   "outputs": [
    {
     "name": "stdout",
     "output_type": "stream",
     "text": [
      "  Nar          Kiraz         Karpuz\n",
      "-------------------------------------\n",
      "4,201          2,415          3,234\n",
      "4,627          3,271          3,440\n"
     ]
    }
   ],
   "source": [
    "print(\"{:>5}{:>15}{:>15}\".format(*meyveler)) #{:>5.2s} ile metinsel alanda kaç karekter gösterilecek.\n",
    "print(\"-\"*37)\n",
    "print(\"{:>5,}{:>15,}{:>15,}\".format(*pazarKazanclari[\"pazar1\"].values()))\n",
    "print(\"{:>5,}{:>15,}{:>15,}\".format(*pazarKazanclari[\"pazar2\"].values()))"
   ]
  },
  {
   "cell_type": "markdown",
   "id": "dd386f29-73fe-4204-942c-1b82c4c1a449",
   "metadata": {},
   "source": [
    "#### Filtreler Verelim"
   ]
  },
  {
   "cell_type": "code",
   "execution_count": 66,
   "id": "6b84322e-21ec-4f0d-9312-3ce714624412",
   "metadata": {},
   "outputs": [
    {
     "data": {
      "text/plain": [
       "array([[4201, 4627],\n",
       "       [2415, 3271],\n",
       "       [3234, 3440]])"
      ]
     },
     "execution_count": 66,
     "metadata": {},
     "output_type": "execute_result"
    }
   ],
   "source": [
    "p_dizi = np.vstack([list(p.values()) for p in pazarKazanclari.values()]).T #transpose\n",
    "p_dizi "
   ]
  },
  {
   "cell_type": "code",
   "execution_count": 70,
   "id": "c852a0d9-8442-4806-9ffa-3bc419e5fa22",
   "metadata": {},
   "outputs": [
    {
     "name": "stdout",
     "output_type": "stream",
     "text": [
      "Pazar 1: 9,850 tl\n",
      "Pazar 2: 11,338 tl\n"
     ]
    }
   ],
   "source": [
    "#pazarların toplam kazancı nedir?\n",
    "p_dizi.sum(axis=0) #satır boyunca işlem yapar\n",
    "\n",
    "print(f\"Pazar 1: {p_dizi.sum(axis=0)[0] :,} tl\")\n",
    "print(f\"Pazar 2: {p_dizi.sum(axis=0)[1] :,} tl\")"
   ]
  },
  {
   "cell_type": "code",
   "execution_count": 82,
   "id": "7c4cd426-2f15-4d51-b110-0befbabbcce0",
   "metadata": {},
   "outputs": [
    {
     "data": {
      "text/plain": [
       "array([False,  True])"
      ]
     },
     "execution_count": 82,
     "metadata": {},
     "output_type": "execute_result"
    }
   ],
   "source": [
    "#3000 üzerinde olan kazançları getirelim.\n",
    "filtre_35K = p_dizi > 3000\n",
    "p_dizi[filtre_35K]\n",
    "\n",
    "\n",
    "#--\n",
    "np.count_nonzero(filtre_35K) #şarta uyanların adedi #0 ve yokluk False olarak değerlendirilir.\n",
    "\n",
    "#\n",
    "filtre_35K.sum()\n",
    "filtre_35K.sum(axis=0) #pazar bazlı şarta uyanlar\n",
    "\n",
    "#\n",
    "filtre_35K.any(axis=0) #hiç şarta uyan var mı?\n",
    "filtre_35K.all(axis=0) #hepsi uyuyor mu?"
   ]
  }
 ],
 "metadata": {
  "kernelspec": {
   "display_name": "Python 3 (ipykernel)",
   "language": "python",
   "name": "python3"
  },
  "language_info": {
   "codemirror_mode": {
    "name": "ipython",
    "version": 3
   },
   "file_extension": ".py",
   "mimetype": "text/x-python",
   "name": "python",
   "nbconvert_exporter": "python",
   "pygments_lexer": "ipython3",
   "version": "3.8.12"
  }
 },
 "nbformat": 4,
 "nbformat_minor": 5
}
